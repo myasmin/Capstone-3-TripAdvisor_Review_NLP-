{
 "cells": [
  {
   "cell_type": "markdown",
   "metadata": {},
   "source": [
    "# 1. Data Wrangling:"
   ]
  },
  {
   "cell_type": "markdown",
   "metadata": {},
   "source": [
    "### 1.1. Importing the libraries:"
   ]
  },
  {
   "cell_type": "code",
   "execution_count": 1,
   "metadata": {},
   "outputs": [],
   "source": [
    "import pandas as pd\n",
    "import numpy as np\n",
    "import os\n",
    "import matplotlib.pyplot as plt\n",
    "import seaborn as sns"
   ]
  },
  {
   "cell_type": "markdown",
   "metadata": {},
   "source": [
    "### 1.2. Load the Data:"
   ]
  },
  {
   "cell_type": "code",
   "execution_count": 2,
   "metadata": {},
   "outputs": [
    {
     "name": "stderr",
     "output_type": "stream",
     "text": [
      "C:\\Users\\mahmu\\AppData\\Local\\Temp\\ipykernel_14268\\1134722884.py:1: DtypeWarning: Columns (0,1,3) have mixed types. Specify dtype option on import or set low_memory=False.\n",
      "  barcelona = pd.read_csv('./data/Barcelona_reviews.csv')\n",
      "C:\\Users\\mahmu\\AppData\\Local\\Temp\\ipykernel_14268\\1134722884.py:2: DtypeWarning: Columns (0,1,3) have mixed types. Specify dtype option on import or set low_memory=False.\n",
      "  london = pd.read_csv('./data/London_reviews.csv')\n",
      "C:\\Users\\mahmu\\AppData\\Local\\Temp\\ipykernel_14268\\1134722884.py:4: DtypeWarning: Columns (0,1,3) have mixed types. Specify dtype option on import or set low_memory=False.\n",
      "  newdelhi = pd.read_csv('./data/New_Delhi_reviews.csv')\n",
      "C:\\Users\\mahmu\\AppData\\Local\\Temp\\ipykernel_14268\\1134722884.py:5: DtypeWarning: Columns (0,1,3) have mixed types. Specify dtype option on import or set low_memory=False.\n",
      "  newyork = pd.read_csv('./data/New_York_reviews.csv')\n",
      "C:\\Users\\mahmu\\AppData\\Local\\Temp\\ipykernel_14268\\1134722884.py:6: DtypeWarning: Columns (0,1,3) have mixed types. Specify dtype option on import or set low_memory=False.\n",
      "  paris = pd.read_csv('./data/Paris_reviews.csv')\n"
     ]
    }
   ],
   "source": [
    "barcelona = pd.read_csv('./data/Barcelona_reviews.csv')\n",
    "london = pd.read_csv('./data/London_reviews.csv')\n",
    "madrid = pd.read_csv('./data/Madrid_reviews.csv')\n",
    "newdelhi = pd.read_csv('./data/New_Delhi_reviews.csv')\n",
    "newyork = pd.read_csv('./data/New_York_reviews.csv')\n",
    "paris = pd.read_csv('./data/Paris_reviews.csv')"
   ]
  },
  {
   "cell_type": "markdown",
   "metadata": {},
   "source": [
    "# 2. Data Preprocessing:"
   ]
  },
  {
   "cell_type": "markdown",
   "metadata": {},
   "source": [
    "##### Define some Custom Functions for Data Wrangling:"
   ]
  },
  {
   "cell_type": "code",
   "execution_count": 3,
   "metadata": {},
   "outputs": [],
   "source": [
    "def findmissing(x):\n",
    "    missing = pd.concat([x.isnull().sum(), 100 * x.isnull().mean()], axis=1)\n",
    "    missing.columns=['count', '%']\n",
    "    missing.sort_values(by='count',ascending=False)\n",
    "    return(missing)"
   ]
  },
  {
   "cell_type": "code",
   "execution_count": 4,
   "metadata": {},
   "outputs": [],
   "source": [
    "def findnull(x):\n",
    "    y = x[x.isnull().any(axis=1)]\n",
    "    return(y)"
   ]
  },
  {
   "cell_type": "code",
   "execution_count": 5,
   "metadata": {},
   "outputs": [],
   "source": [
    "def dropnullrows(x):\n",
    "    x = x.dropna(how='any',axis=0)"
   ]
  },
  {
   "cell_type": "markdown",
   "metadata": {},
   "source": [
    "### 2.1. Exploring the Datasets:"
   ]
  },
  {
   "cell_type": "code",
   "execution_count": 6,
   "metadata": {},
   "outputs": [
    {
     "data": {
      "text/html": [
       "<div>\n",
       "<style scoped>\n",
       "    .dataframe tbody tr th:only-of-type {\n",
       "        vertical-align: middle;\n",
       "    }\n",
       "\n",
       "    .dataframe tbody tr th {\n",
       "        vertical-align: top;\n",
       "    }\n",
       "\n",
       "    .dataframe thead th {\n",
       "        text-align: right;\n",
       "    }\n",
       "</style>\n",
       "<table border=\"1\" class=\"dataframe\">\n",
       "  <thead>\n",
       "    <tr style=\"text-align: right;\">\n",
       "      <th></th>\n",
       "      <th>count</th>\n",
       "      <th>%</th>\n",
       "    </tr>\n",
       "  </thead>\n",
       "  <tbody>\n",
       "    <tr>\n",
       "      <th>Unnamed: 0</th>\n",
       "      <td>0</td>\n",
       "      <td>0.00000</td>\n",
       "    </tr>\n",
       "    <tr>\n",
       "      <th>parse_count</th>\n",
       "      <td>0</td>\n",
       "      <td>0.00000</td>\n",
       "    </tr>\n",
       "    <tr>\n",
       "      <th>restaurant_name</th>\n",
       "      <td>0</td>\n",
       "      <td>0.00000</td>\n",
       "    </tr>\n",
       "    <tr>\n",
       "      <th>rating_review</th>\n",
       "      <td>0</td>\n",
       "      <td>0.00000</td>\n",
       "    </tr>\n",
       "    <tr>\n",
       "      <th>sample</th>\n",
       "      <td>0</td>\n",
       "      <td>0.00000</td>\n",
       "    </tr>\n",
       "    <tr>\n",
       "      <th>review_id</th>\n",
       "      <td>0</td>\n",
       "      <td>0.00000</td>\n",
       "    </tr>\n",
       "    <tr>\n",
       "      <th>title_review</th>\n",
       "      <td>1</td>\n",
       "      <td>0.00024</td>\n",
       "    </tr>\n",
       "    <tr>\n",
       "      <th>review_preview</th>\n",
       "      <td>1</td>\n",
       "      <td>0.00024</td>\n",
       "    </tr>\n",
       "    <tr>\n",
       "      <th>review_full</th>\n",
       "      <td>2</td>\n",
       "      <td>0.00048</td>\n",
       "    </tr>\n",
       "    <tr>\n",
       "      <th>date</th>\n",
       "      <td>2</td>\n",
       "      <td>0.00048</td>\n",
       "    </tr>\n",
       "    <tr>\n",
       "      <th>city</th>\n",
       "      <td>2</td>\n",
       "      <td>0.00048</td>\n",
       "    </tr>\n",
       "    <tr>\n",
       "      <th>url_restaurant</th>\n",
       "      <td>2</td>\n",
       "      <td>0.00048</td>\n",
       "    </tr>\n",
       "    <tr>\n",
       "      <th>author_id</th>\n",
       "      <td>2</td>\n",
       "      <td>0.00048</td>\n",
       "    </tr>\n",
       "  </tbody>\n",
       "</table>\n",
       "</div>"
      ],
      "text/plain": [
       "                 count        %\n",
       "Unnamed: 0           0  0.00000\n",
       "parse_count          0  0.00000\n",
       "restaurant_name      0  0.00000\n",
       "rating_review        0  0.00000\n",
       "sample               0  0.00000\n",
       "review_id            0  0.00000\n",
       "title_review         1  0.00024\n",
       "review_preview       1  0.00024\n",
       "review_full          2  0.00048\n",
       "date                 2  0.00048\n",
       "city                 2  0.00048\n",
       "url_restaurant       2  0.00048\n",
       "author_id            2  0.00048"
      ]
     },
     "execution_count": 6,
     "metadata": {},
     "output_type": "execute_result"
    }
   ],
   "source": [
    "findmissing(barcelona)"
   ]
  },
  {
   "cell_type": "code",
   "execution_count": 7,
   "metadata": {},
   "outputs": [
    {
     "data": {
      "text/html": [
       "<div>\n",
       "<style scoped>\n",
       "    .dataframe tbody tr th:only-of-type {\n",
       "        vertical-align: middle;\n",
       "    }\n",
       "\n",
       "    .dataframe tbody tr th {\n",
       "        vertical-align: top;\n",
       "    }\n",
       "\n",
       "    .dataframe thead th {\n",
       "        text-align: right;\n",
       "    }\n",
       "</style>\n",
       "<table border=\"1\" class=\"dataframe\">\n",
       "  <thead>\n",
       "    <tr style=\"text-align: right;\">\n",
       "      <th></th>\n",
       "      <th>Unnamed: 0</th>\n",
       "      <th>parse_count</th>\n",
       "      <th>restaurant_name</th>\n",
       "      <th>rating_review</th>\n",
       "      <th>sample</th>\n",
       "      <th>review_id</th>\n",
       "      <th>title_review</th>\n",
       "      <th>review_preview</th>\n",
       "      <th>review_full</th>\n",
       "      <th>date</th>\n",
       "      <th>city</th>\n",
       "      <th>url_restaurant</th>\n",
       "      <th>author_id</th>\n",
       "    </tr>\n",
       "  </thead>\n",
       "  <tbody>\n",
       "    <tr>\n",
       "      <th>187262</th>\n",
       "      <td>187662</td>\n",
       "      <td>187663</td>\n",
       "      <td>Arrosseria_Xativa_Les_Corts</td>\n",
       "      <td>4</td>\n",
       "      <td>Positive</td>\n",
       "      <td>review_209790779</td>\n",
       "      <td>Nice ambience and good quality</td>\n",
       "      <td>Three nights in to our stay it is a relief to ...</td>\n",
       "      <td>NaN</td>\n",
       "      <td>NaN</td>\n",
       "      <td>NaN</td>\n",
       "      <td>NaN</td>\n",
       "      <td>NaN</td>\n",
       "    </tr>\n",
       "    <tr>\n",
       "      <th>187263</th>\n",
       "      <td>wq</td>\n",
       "      <td>Three nights in to our stay it is a relief to ...</td>\n",
       "      <td>June 10, 2014</td>\n",
       "      <td>Barcelona_Catalonia</td>\n",
       "      <td>https://www.tripadvisor.com/Restaurant_Review-...</td>\n",
       "      <td>UID_116920</td>\n",
       "      <td>NaN</td>\n",
       "      <td>NaN</td>\n",
       "      <td>NaN</td>\n",
       "      <td>NaN</td>\n",
       "      <td>NaN</td>\n",
       "      <td>NaN</td>\n",
       "      <td>NaN</td>\n",
       "    </tr>\n",
       "  </tbody>\n",
       "</table>\n",
       "</div>"
      ],
      "text/plain": [
       "       Unnamed: 0                                        parse_count  \\\n",
       "187262     187662                                             187663   \n",
       "187263         wq  Three nights in to our stay it is a relief to ...   \n",
       "\n",
       "                    restaurant_name        rating_review  \\\n",
       "187262  Arrosseria_Xativa_Les_Corts                    4   \n",
       "187263                June 10, 2014  Barcelona_Catalonia   \n",
       "\n",
       "                                                   sample         review_id  \\\n",
       "187262                                           Positive  review_209790779   \n",
       "187263  https://www.tripadvisor.com/Restaurant_Review-...        UID_116920   \n",
       "\n",
       "                          title_review  \\\n",
       "187262  Nice ambience and good quality   \n",
       "187263                             NaN   \n",
       "\n",
       "                                           review_preview review_full date  \\\n",
       "187262  Three nights in to our stay it is a relief to ...         NaN  NaN   \n",
       "187263                                                NaN         NaN  NaN   \n",
       "\n",
       "       city url_restaurant author_id  \n",
       "187262  NaN            NaN       NaN  \n",
       "187263  NaN            NaN       NaN  "
      ]
     },
     "execution_count": 7,
     "metadata": {},
     "output_type": "execute_result"
    }
   ],
   "source": [
    "findnull(barcelona)"
   ]
  },
  {
   "cell_type": "code",
   "execution_count": 8,
   "metadata": {},
   "outputs": [
    {
     "data": {
      "text/html": [
       "<div>\n",
       "<style scoped>\n",
       "    .dataframe tbody tr th:only-of-type {\n",
       "        vertical-align: middle;\n",
       "    }\n",
       "\n",
       "    .dataframe tbody tr th {\n",
       "        vertical-align: top;\n",
       "    }\n",
       "\n",
       "    .dataframe thead th {\n",
       "        text-align: right;\n",
       "    }\n",
       "</style>\n",
       "<table border=\"1\" class=\"dataframe\">\n",
       "  <thead>\n",
       "    <tr style=\"text-align: right;\">\n",
       "      <th></th>\n",
       "      <th>count</th>\n",
       "      <th>%</th>\n",
       "    </tr>\n",
       "  </thead>\n",
       "  <tbody>\n",
       "    <tr>\n",
       "      <th>Unnamed: 0</th>\n",
       "      <td>0</td>\n",
       "      <td>0.000000</td>\n",
       "    </tr>\n",
       "    <tr>\n",
       "      <th>parse_count</th>\n",
       "      <td>9</td>\n",
       "      <td>0.000903</td>\n",
       "    </tr>\n",
       "    <tr>\n",
       "      <th>restaurant_name</th>\n",
       "      <td>9</td>\n",
       "      <td>0.000903</td>\n",
       "    </tr>\n",
       "    <tr>\n",
       "      <th>rating_review</th>\n",
       "      <td>9</td>\n",
       "      <td>0.000903</td>\n",
       "    </tr>\n",
       "    <tr>\n",
       "      <th>sample</th>\n",
       "      <td>9</td>\n",
       "      <td>0.000903</td>\n",
       "    </tr>\n",
       "    <tr>\n",
       "      <th>review_id</th>\n",
       "      <td>9</td>\n",
       "      <td>0.000903</td>\n",
       "    </tr>\n",
       "    <tr>\n",
       "      <th>title_review</th>\n",
       "      <td>15</td>\n",
       "      <td>0.001505</td>\n",
       "    </tr>\n",
       "    <tr>\n",
       "      <th>review_preview</th>\n",
       "      <td>15</td>\n",
       "      <td>0.001505</td>\n",
       "    </tr>\n",
       "    <tr>\n",
       "      <th>review_full</th>\n",
       "      <td>21</td>\n",
       "      <td>0.002107</td>\n",
       "    </tr>\n",
       "    <tr>\n",
       "      <th>date</th>\n",
       "      <td>21</td>\n",
       "      <td>0.002107</td>\n",
       "    </tr>\n",
       "    <tr>\n",
       "      <th>city</th>\n",
       "      <td>21</td>\n",
       "      <td>0.002107</td>\n",
       "    </tr>\n",
       "    <tr>\n",
       "      <th>url_restaurant</th>\n",
       "      <td>21</td>\n",
       "      <td>0.002107</td>\n",
       "    </tr>\n",
       "    <tr>\n",
       "      <th>author_id</th>\n",
       "      <td>21</td>\n",
       "      <td>0.002107</td>\n",
       "    </tr>\n",
       "  </tbody>\n",
       "</table>\n",
       "</div>"
      ],
      "text/plain": [
       "                 count         %\n",
       "Unnamed: 0           0  0.000000\n",
       "parse_count          9  0.000903\n",
       "restaurant_name      9  0.000903\n",
       "rating_review        9  0.000903\n",
       "sample               9  0.000903\n",
       "review_id            9  0.000903\n",
       "title_review        15  0.001505\n",
       "review_preview      15  0.001505\n",
       "review_full         21  0.002107\n",
       "date                21  0.002107\n",
       "city                21  0.002107\n",
       "url_restaurant      21  0.002107\n",
       "author_id           21  0.002107"
      ]
     },
     "execution_count": 8,
     "metadata": {},
     "output_type": "execute_result"
    }
   ],
   "source": [
    "findmissing(london)"
   ]
  },
  {
   "cell_type": "code",
   "execution_count": 9,
   "metadata": {},
   "outputs": [
    {
     "data": {
      "text/html": [
       "<div>\n",
       "<style scoped>\n",
       "    .dataframe tbody tr th:only-of-type {\n",
       "        vertical-align: middle;\n",
       "    }\n",
       "\n",
       "    .dataframe tbody tr th {\n",
       "        vertical-align: top;\n",
       "    }\n",
       "\n",
       "    .dataframe thead th {\n",
       "        text-align: right;\n",
       "    }\n",
       "</style>\n",
       "<table border=\"1\" class=\"dataframe\">\n",
       "  <thead>\n",
       "    <tr style=\"text-align: right;\">\n",
       "      <th></th>\n",
       "      <th>Unnamed: 0</th>\n",
       "      <th>parse_count</th>\n",
       "      <th>restaurant_name</th>\n",
       "      <th>rating_review</th>\n",
       "      <th>sample</th>\n",
       "      <th>review_id</th>\n",
       "      <th>title_review</th>\n",
       "      <th>review_preview</th>\n",
       "      <th>review_full</th>\n",
       "      <th>date</th>\n",
       "      <th>city</th>\n",
       "      <th>url_restaurant</th>\n",
       "      <th>author_id</th>\n",
       "    </tr>\n",
       "  </thead>\n",
       "  <tbody>\n",
       "    <tr>\n",
       "      <th>196133</th>\n",
       "      <td>196680</td>\n",
       "      <td>196681</td>\n",
       "      <td>The_Queens_Head</td>\n",
       "      <td>4.0</td>\n",
       "      <td>Positive</td>\n",
       "      <td>review_176616387</td>\n",
       "      <td>what a star</td>\n",
       "      <td>Dropped in for a quick drink before a show. wh...</td>\n",
       "      <td>NaN</td>\n",
       "      <td>NaN</td>\n",
       "      <td>NaN</td>\n",
       "      <td>NaN</td>\n",
       "      <td>NaN</td>\n",
       "    </tr>\n",
       "    <tr>\n",
       "      <th>196134</th>\n",
       "      <td>The owners are most welcoming. You won't regre...</td>\n",
       "      <td>Dropped in for a quick drink before a show. wh...</td>\n",
       "      <td>September 10, 2013</td>\n",
       "      <td>London_England</td>\n",
       "      <td>https://www.tripadvisor.com/Restaurant_Review-...</td>\n",
       "      <td>UID_145402</td>\n",
       "      <td>NaN</td>\n",
       "      <td>NaN</td>\n",
       "      <td>NaN</td>\n",
       "      <td>NaN</td>\n",
       "      <td>NaN</td>\n",
       "      <td>NaN</td>\n",
       "      <td>NaN</td>\n",
       "    </tr>\n",
       "    <tr>\n",
       "      <th>412019</th>\n",
       "      <td>413290</td>\n",
       "      <td>413291</td>\n",
       "      <td>Hawksmoor_Knightsbridge</td>\n",
       "      <td>5.0</td>\n",
       "      <td>Positive</td>\n",
       "      <td>review_399987029</td>\n",
       "      <td>lovely diner</td>\n",
       "      <td>lovely diner in the heart of knightsbridge</td>\n",
       "      <td>NaN</td>\n",
       "      <td>NaN</td>\n",
       "      <td>NaN</td>\n",
       "      <td>NaN</td>\n",
       "      <td>NaN</td>\n",
       "    </tr>\n",
       "    <tr>\n",
       "      <th>412020</th>\n",
       "      <td>the atmosphere is really peacefull (was sunday...</td>\n",
       "      <td>NaN</td>\n",
       "      <td>NaN</td>\n",
       "      <td>NaN</td>\n",
       "      <td>NaN</td>\n",
       "      <td>NaN</td>\n",
       "      <td>NaN</td>\n",
       "      <td>NaN</td>\n",
       "      <td>NaN</td>\n",
       "      <td>NaN</td>\n",
       "      <td>NaN</td>\n",
       "      <td>NaN</td>\n",
       "      <td>NaN</td>\n",
       "    </tr>\n",
       "    <tr>\n",
       "      <th>412021</th>\n",
       "      <td>we enjoyed the sirloin and rump!!</td>\n",
       "      <td>NaN</td>\n",
       "      <td>NaN</td>\n",
       "      <td>NaN</td>\n",
       "      <td>NaN</td>\n",
       "      <td>NaN</td>\n",
       "      <td>NaN</td>\n",
       "      <td>NaN</td>\n",
       "      <td>NaN</td>\n",
       "      <td>NaN</td>\n",
       "      <td>NaN</td>\n",
       "      <td>NaN</td>\n",
       "      <td>NaN</td>\n",
       "    </tr>\n",
       "    <tr>\n",
       "      <th>412022</th>\n",
       "      <td>incredible dessert strawberry and white chocol...</td>\n",
       "      <td>NaN</td>\n",
       "      <td>NaN</td>\n",
       "      <td>NaN</td>\n",
       "      <td>NaN</td>\n",
       "      <td>NaN</td>\n",
       "      <td>NaN</td>\n",
       "      <td>NaN</td>\n",
       "      <td>NaN</td>\n",
       "      <td>NaN</td>\n",
       "      <td>NaN</td>\n",
       "      <td>NaN</td>\n",
       "      <td>NaN</td>\n",
       "    </tr>\n",
       "    <tr>\n",
       "      <th>412023</th>\n",
       "      <td>great staff very helpful and friendly</td>\n",
       "      <td>lovely diner in the heart of knightsbridgethe ...</td>\n",
       "      <td>August 1, 2016</td>\n",
       "      <td>London_England</td>\n",
       "      <td>https://www.tripadvisor.com/Restaurant_Review-...</td>\n",
       "      <td>UID_52267</td>\n",
       "      <td>NaN</td>\n",
       "      <td>NaN</td>\n",
       "      <td>NaN</td>\n",
       "      <td>NaN</td>\n",
       "      <td>NaN</td>\n",
       "      <td>NaN</td>\n",
       "      <td>NaN</td>\n",
       "    </tr>\n",
       "    <tr>\n",
       "      <th>592749</th>\n",
       "      <td>594700</td>\n",
       "      <td>594701</td>\n",
       "      <td>Wahaca_Covent_Garden</td>\n",
       "      <td>5.0</td>\n",
       "      <td>Positive</td>\n",
       "      <td>review_183099322</td>\n",
       "      <td>margarita heaven</td>\n",
       "      <td>Title surely says it all BUT if not there are ...</td>\n",
       "      <td>NaN</td>\n",
       "      <td>NaN</td>\n",
       "      <td>NaN</td>\n",
       "      <td>NaN</td>\n",
       "      <td>NaN</td>\n",
       "    </tr>\n",
       "    <tr>\n",
       "      <th>592750</th>\n",
       "      <td>Pulled pork burritto (with cheese)</td>\n",
       "      <td>NaN</td>\n",
       "      <td>NaN</td>\n",
       "      <td>NaN</td>\n",
       "      <td>NaN</td>\n",
       "      <td>NaN</td>\n",
       "      <td>NaN</td>\n",
       "      <td>NaN</td>\n",
       "      <td>NaN</td>\n",
       "      <td>NaN</td>\n",
       "      <td>NaN</td>\n",
       "      <td>NaN</td>\n",
       "      <td>NaN</td>\n",
       "    </tr>\n",
       "    <tr>\n",
       "      <th>592751</th>\n",
       "      <td>Guacomole</td>\n",
       "      <td>NaN</td>\n",
       "      <td>NaN</td>\n",
       "      <td>NaN</td>\n",
       "      <td>NaN</td>\n",
       "      <td>NaN</td>\n",
       "      <td>NaN</td>\n",
       "      <td>NaN</td>\n",
       "      <td>NaN</td>\n",
       "      <td>NaN</td>\n",
       "      <td>NaN</td>\n",
       "      <td>NaN</td>\n",
       "      <td>NaN</td>\n",
       "    </tr>\n",
       "    <tr>\n",
       "      <th>592752</th>\n",
       "      <td>Atmosphere</td>\n",
       "      <td>NaN</td>\n",
       "      <td>NaN</td>\n",
       "      <td>NaN</td>\n",
       "      <td>NaN</td>\n",
       "      <td>NaN</td>\n",
       "      <td>NaN</td>\n",
       "      <td>NaN</td>\n",
       "      <td>NaN</td>\n",
       "      <td>NaN</td>\n",
       "      <td>NaN</td>\n",
       "      <td>NaN</td>\n",
       "      <td>NaN</td>\n",
       "    </tr>\n",
       "    <tr>\n",
       "      <th>592753</th>\n",
       "      <td>Relaxed mexican that has it all!!!!</td>\n",
       "      <td>NaN</td>\n",
       "      <td>NaN</td>\n",
       "      <td>NaN</td>\n",
       "      <td>NaN</td>\n",
       "      <td>NaN</td>\n",
       "      <td>NaN</td>\n",
       "      <td>NaN</td>\n",
       "      <td>NaN</td>\n",
       "      <td>NaN</td>\n",
       "      <td>NaN</td>\n",
       "      <td>NaN</td>\n",
       "      <td>NaN</td>\n",
       "    </tr>\n",
       "    <tr>\n",
       "      <th>592754</th>\n",
       "      <td>Margaritas were amazing but go classic everytime.</td>\n",
       "      <td>NaN</td>\n",
       "      <td>NaN</td>\n",
       "      <td>NaN</td>\n",
       "      <td>NaN</td>\n",
       "      <td>NaN</td>\n",
       "      <td>NaN</td>\n",
       "      <td>NaN</td>\n",
       "      <td>NaN</td>\n",
       "      <td>NaN</td>\n",
       "      <td>NaN</td>\n",
       "      <td>NaN</td>\n",
       "      <td>NaN</td>\n",
       "    </tr>\n",
       "    <tr>\n",
       "      <th>592755</th>\n",
       "      <td>You even get chilli seeds to grow.</td>\n",
       "      <td>Title surely says it all BUT if not there are ...</td>\n",
       "      <td>October 31, 2013</td>\n",
       "      <td>London_England</td>\n",
       "      <td>https://www.tripadvisor.com/Restaurant_Review-...</td>\n",
       "      <td>UID_347167</td>\n",
       "      <td>NaN</td>\n",
       "      <td>NaN</td>\n",
       "      <td>NaN</td>\n",
       "      <td>NaN</td>\n",
       "      <td>NaN</td>\n",
       "      <td>NaN</td>\n",
       "      <td>NaN</td>\n",
       "    </tr>\n",
       "    <tr>\n",
       "      <th>602261</th>\n",
       "      <td>604232</td>\n",
       "      <td>604233</td>\n",
       "      <td>Bill_s_Soho</td>\n",
       "      <td>4.0</td>\n",
       "      <td>Positive</td>\n",
       "      <td>review_184864370</td>\n",
       "      <td>saturday lunch</td>\n",
       "      <td>this place was packed - even for a late saturd...</td>\n",
       "      <td>NaN</td>\n",
       "      <td>NaN</td>\n",
       "      <td>NaN</td>\n",
       "      <td>NaN</td>\n",
       "      <td>NaN</td>\n",
       "    </tr>\n",
       "    <tr>\n",
       "      <th>602262</th>\n",
       "      <td>lively and energetic - perfect for a quick san...</td>\n",
       "      <td>NaN</td>\n",
       "      <td>NaN</td>\n",
       "      <td>NaN</td>\n",
       "      <td>NaN</td>\n",
       "      <td>NaN</td>\n",
       "      <td>NaN</td>\n",
       "      <td>NaN</td>\n",
       "      <td>NaN</td>\n",
       "      <td>NaN</td>\n",
       "      <td>NaN</td>\n",
       "      <td>NaN</td>\n",
       "      <td>NaN</td>\n",
       "    </tr>\n",
       "    <tr>\n",
       "      <th>602263</th>\n",
       "      <td>service was quick...</td>\n",
       "      <td>this place was packed - even for a late saturd...</td>\n",
       "      <td>November 16, 2013</td>\n",
       "      <td>London_England</td>\n",
       "      <td>https://www.tripadvisor.com/Restaurant_Review-...</td>\n",
       "      <td>UID_10278</td>\n",
       "      <td>NaN</td>\n",
       "      <td>NaN</td>\n",
       "      <td>NaN</td>\n",
       "      <td>NaN</td>\n",
       "      <td>NaN</td>\n",
       "      <td>NaN</td>\n",
       "      <td>NaN</td>\n",
       "    </tr>\n",
       "    <tr>\n",
       "      <th>604121</th>\n",
       "      <td>606098</td>\n",
       "      <td>606099</td>\n",
       "      <td>Bill_s_Soho</td>\n",
       "      <td>4.0</td>\n",
       "      <td>Positive</td>\n",
       "      <td>review_489186275</td>\n",
       "      <td>Great food and nice atmosphere.</td>\n",
       "      <td>Had a main course (THAI GREEN CHICKEN CURRY) a...</td>\n",
       "      <td>NaN</td>\n",
       "      <td>NaN</td>\n",
       "      <td>NaN</td>\n",
       "      <td>NaN</td>\n",
       "      <td>NaN</td>\n",
       "    </tr>\n",
       "    <tr>\n",
       "      <th>604122</th>\n",
       "      <td>AND SORBETS) which was very well prepared and ...</td>\n",
       "      <td>Had a main course (THAI GREEN CHICKEN CURRY) a...</td>\n",
       "      <td>May 30, 2017</td>\n",
       "      <td>London_England</td>\n",
       "      <td>https://www.tripadvisor.com/Restaurant_Review-...</td>\n",
       "      <td>UID_352521</td>\n",
       "      <td>NaN</td>\n",
       "      <td>NaN</td>\n",
       "      <td>NaN</td>\n",
       "      <td>NaN</td>\n",
       "      <td>NaN</td>\n",
       "      <td>NaN</td>\n",
       "      <td>NaN</td>\n",
       "    </tr>\n",
       "    <tr>\n",
       "      <th>662620</th>\n",
       "      <td>664719</td>\n",
       "      <td>664720</td>\n",
       "      <td>Heroica_Lounge</td>\n",
       "      <td>5.0</td>\n",
       "      <td>Positive</td>\n",
       "      <td>review_572675537</td>\n",
       "      <td>Can't be missed!!!!</td>\n",
       "      <td>We had the chance to eat in this lovely pizza ...</td>\n",
       "      <td>NaN</td>\n",
       "      <td>NaN</td>\n",
       "      <td>NaN</td>\n",
       "      <td>NaN</td>\n",
       "      <td>NaN</td>\n",
       "    </tr>\n",
       "    <tr>\n",
       "      <th>662621</th>\n",
       "      <td>in a really nice corner of London. We had been...</td>\n",
       "      <td>We had the chance to eat in this lovely pizza ...</td>\n",
       "      <td>April 11, 2018</td>\n",
       "      <td>London_England</td>\n",
       "      <td>https://www.tripadvisor.com/Restaurant_Review-...</td>\n",
       "      <td>UID_377211</td>\n",
       "      <td>NaN</td>\n",
       "      <td>NaN</td>\n",
       "      <td>NaN</td>\n",
       "      <td>NaN</td>\n",
       "      <td>NaN</td>\n",
       "      <td>NaN</td>\n",
       "      <td>NaN</td>\n",
       "    </tr>\n",
       "  </tbody>\n",
       "</table>\n",
       "</div>"
      ],
      "text/plain": [
       "                                               Unnamed: 0  \\\n",
       "196133                                             196680   \n",
       "196134  The owners are most welcoming. You won't regre...   \n",
       "412019                                             413290   \n",
       "412020  the atmosphere is really peacefull (was sunday...   \n",
       "412021                  we enjoyed the sirloin and rump!!   \n",
       "412022  incredible dessert strawberry and white chocol...   \n",
       "412023              great staff very helpful and friendly   \n",
       "592749                                             594700   \n",
       "592750                 Pulled pork burritto (with cheese)   \n",
       "592751                                          Guacomole   \n",
       "592752                                         Atmosphere   \n",
       "592753                Relaxed mexican that has it all!!!!   \n",
       "592754  Margaritas were amazing but go classic everytime.   \n",
       "592755                 You even get chilli seeds to grow.   \n",
       "602261                                             604232   \n",
       "602262  lively and energetic - perfect for a quick san...   \n",
       "602263                               service was quick...   \n",
       "604121                                             606098   \n",
       "604122  AND SORBETS) which was very well prepared and ...   \n",
       "662620                                             664719   \n",
       "662621  in a really nice corner of London. We had been...   \n",
       "\n",
       "                                              parse_count  \\\n",
       "196133                                             196681   \n",
       "196134  Dropped in for a quick drink before a show. wh...   \n",
       "412019                                             413291   \n",
       "412020                                                NaN   \n",
       "412021                                                NaN   \n",
       "412022                                                NaN   \n",
       "412023  lovely diner in the heart of knightsbridgethe ...   \n",
       "592749                                             594701   \n",
       "592750                                                NaN   \n",
       "592751                                                NaN   \n",
       "592752                                                NaN   \n",
       "592753                                                NaN   \n",
       "592754                                                NaN   \n",
       "592755  Title surely says it all BUT if not there are ...   \n",
       "602261                                             604233   \n",
       "602262                                                NaN   \n",
       "602263  this place was packed - even for a late saturd...   \n",
       "604121                                             606099   \n",
       "604122  Had a main course (THAI GREEN CHICKEN CURRY) a...   \n",
       "662620                                             664720   \n",
       "662621  We had the chance to eat in this lovely pizza ...   \n",
       "\n",
       "                restaurant_name   rating_review  \\\n",
       "196133          The_Queens_Head             4.0   \n",
       "196134       September 10, 2013  London_England   \n",
       "412019  Hawksmoor_Knightsbridge             5.0   \n",
       "412020                      NaN             NaN   \n",
       "412021                      NaN             NaN   \n",
       "412022                      NaN             NaN   \n",
       "412023           August 1, 2016  London_England   \n",
       "592749     Wahaca_Covent_Garden             5.0   \n",
       "592750                      NaN             NaN   \n",
       "592751                      NaN             NaN   \n",
       "592752                      NaN             NaN   \n",
       "592753                      NaN             NaN   \n",
       "592754                      NaN             NaN   \n",
       "592755         October 31, 2013  London_England   \n",
       "602261              Bill_s_Soho             4.0   \n",
       "602262                      NaN             NaN   \n",
       "602263        November 16, 2013  London_England   \n",
       "604121              Bill_s_Soho             4.0   \n",
       "604122             May 30, 2017  London_England   \n",
       "662620           Heroica_Lounge             5.0   \n",
       "662621           April 11, 2018  London_England   \n",
       "\n",
       "                                                   sample         review_id  \\\n",
       "196133                                           Positive  review_176616387   \n",
       "196134  https://www.tripadvisor.com/Restaurant_Review-...        UID_145402   \n",
       "412019                                           Positive  review_399987029   \n",
       "412020                                                NaN               NaN   \n",
       "412021                                                NaN               NaN   \n",
       "412022                                                NaN               NaN   \n",
       "412023  https://www.tripadvisor.com/Restaurant_Review-...         UID_52267   \n",
       "592749                                           Positive  review_183099322   \n",
       "592750                                                NaN               NaN   \n",
       "592751                                                NaN               NaN   \n",
       "592752                                                NaN               NaN   \n",
       "592753                                                NaN               NaN   \n",
       "592754                                                NaN               NaN   \n",
       "592755  https://www.tripadvisor.com/Restaurant_Review-...        UID_347167   \n",
       "602261                                           Positive  review_184864370   \n",
       "602262                                                NaN               NaN   \n",
       "602263  https://www.tripadvisor.com/Restaurant_Review-...         UID_10278   \n",
       "604121                                           Positive  review_489186275   \n",
       "604122  https://www.tripadvisor.com/Restaurant_Review-...        UID_352521   \n",
       "662620                                           Positive  review_572675537   \n",
       "662621  https://www.tripadvisor.com/Restaurant_Review-...        UID_377211   \n",
       "\n",
       "                            title_review  \\\n",
       "196133                       what a star   \n",
       "196134                               NaN   \n",
       "412019                     lovely diner    \n",
       "412020                               NaN   \n",
       "412021                               NaN   \n",
       "412022                               NaN   \n",
       "412023                               NaN   \n",
       "592749                  margarita heaven   \n",
       "592750                               NaN   \n",
       "592751                               NaN   \n",
       "592752                               NaN   \n",
       "592753                               NaN   \n",
       "592754                               NaN   \n",
       "592755                               NaN   \n",
       "602261                    saturday lunch   \n",
       "602262                               NaN   \n",
       "602263                               NaN   \n",
       "604121  Great food and nice atmosphere.    \n",
       "604122                               NaN   \n",
       "662620               Can't be missed!!!!   \n",
       "662621                               NaN   \n",
       "\n",
       "                                           review_preview review_full date  \\\n",
       "196133  Dropped in for a quick drink before a show. wh...         NaN  NaN   \n",
       "196134                                                NaN         NaN  NaN   \n",
       "412019         lovely diner in the heart of knightsbridge         NaN  NaN   \n",
       "412020                                                NaN         NaN  NaN   \n",
       "412021                                                NaN         NaN  NaN   \n",
       "412022                                                NaN         NaN  NaN   \n",
       "412023                                                NaN         NaN  NaN   \n",
       "592749  Title surely says it all BUT if not there are ...         NaN  NaN   \n",
       "592750                                                NaN         NaN  NaN   \n",
       "592751                                                NaN         NaN  NaN   \n",
       "592752                                                NaN         NaN  NaN   \n",
       "592753                                                NaN         NaN  NaN   \n",
       "592754                                                NaN         NaN  NaN   \n",
       "592755                                                NaN         NaN  NaN   \n",
       "602261  this place was packed - even for a late saturd...         NaN  NaN   \n",
       "602262                                                NaN         NaN  NaN   \n",
       "602263                                                NaN         NaN  NaN   \n",
       "604121  Had a main course (THAI GREEN CHICKEN CURRY) a...         NaN  NaN   \n",
       "604122                                                NaN         NaN  NaN   \n",
       "662620  We had the chance to eat in this lovely pizza ...         NaN  NaN   \n",
       "662621                                                NaN         NaN  NaN   \n",
       "\n",
       "       city url_restaurant author_id  \n",
       "196133  NaN            NaN       NaN  \n",
       "196134  NaN            NaN       NaN  \n",
       "412019  NaN            NaN       NaN  \n",
       "412020  NaN            NaN       NaN  \n",
       "412021  NaN            NaN       NaN  \n",
       "412022  NaN            NaN       NaN  \n",
       "412023  NaN            NaN       NaN  \n",
       "592749  NaN            NaN       NaN  \n",
       "592750  NaN            NaN       NaN  \n",
       "592751  NaN            NaN       NaN  \n",
       "592752  NaN            NaN       NaN  \n",
       "592753  NaN            NaN       NaN  \n",
       "592754  NaN            NaN       NaN  \n",
       "592755  NaN            NaN       NaN  \n",
       "602261  NaN            NaN       NaN  \n",
       "602262  NaN            NaN       NaN  \n",
       "602263  NaN            NaN       NaN  \n",
       "604121  NaN            NaN       NaN  \n",
       "604122  NaN            NaN       NaN  \n",
       "662620  NaN            NaN       NaN  \n",
       "662621  NaN            NaN       NaN  "
      ]
     },
     "execution_count": 9,
     "metadata": {},
     "output_type": "execute_result"
    }
   ],
   "source": [
    "findnull(london)"
   ]
  },
  {
   "cell_type": "code",
   "execution_count": 10,
   "metadata": {},
   "outputs": [
    {
     "data": {
      "text/html": [
       "<div>\n",
       "<style scoped>\n",
       "    .dataframe tbody tr th:only-of-type {\n",
       "        vertical-align: middle;\n",
       "    }\n",
       "\n",
       "    .dataframe tbody tr th {\n",
       "        vertical-align: top;\n",
       "    }\n",
       "\n",
       "    .dataframe thead th {\n",
       "        text-align: right;\n",
       "    }\n",
       "</style>\n",
       "<table border=\"1\" class=\"dataframe\">\n",
       "  <thead>\n",
       "    <tr style=\"text-align: right;\">\n",
       "      <th></th>\n",
       "      <th>count</th>\n",
       "      <th>%</th>\n",
       "    </tr>\n",
       "  </thead>\n",
       "  <tbody>\n",
       "    <tr>\n",
       "      <th>Unnamed: 0</th>\n",
       "      <td>0</td>\n",
       "      <td>0.0</td>\n",
       "    </tr>\n",
       "    <tr>\n",
       "      <th>parse_count</th>\n",
       "      <td>0</td>\n",
       "      <td>0.0</td>\n",
       "    </tr>\n",
       "    <tr>\n",
       "      <th>restaurant_name</th>\n",
       "      <td>0</td>\n",
       "      <td>0.0</td>\n",
       "    </tr>\n",
       "    <tr>\n",
       "      <th>rating_review</th>\n",
       "      <td>0</td>\n",
       "      <td>0.0</td>\n",
       "    </tr>\n",
       "    <tr>\n",
       "      <th>sample</th>\n",
       "      <td>0</td>\n",
       "      <td>0.0</td>\n",
       "    </tr>\n",
       "    <tr>\n",
       "      <th>review_id</th>\n",
       "      <td>0</td>\n",
       "      <td>0.0</td>\n",
       "    </tr>\n",
       "    <tr>\n",
       "      <th>title_review</th>\n",
       "      <td>0</td>\n",
       "      <td>0.0</td>\n",
       "    </tr>\n",
       "    <tr>\n",
       "      <th>review_preview</th>\n",
       "      <td>0</td>\n",
       "      <td>0.0</td>\n",
       "    </tr>\n",
       "    <tr>\n",
       "      <th>review_full</th>\n",
       "      <td>0</td>\n",
       "      <td>0.0</td>\n",
       "    </tr>\n",
       "    <tr>\n",
       "      <th>date</th>\n",
       "      <td>0</td>\n",
       "      <td>0.0</td>\n",
       "    </tr>\n",
       "    <tr>\n",
       "      <th>city</th>\n",
       "      <td>0</td>\n",
       "      <td>0.0</td>\n",
       "    </tr>\n",
       "    <tr>\n",
       "      <th>url_restaurant</th>\n",
       "      <td>0</td>\n",
       "      <td>0.0</td>\n",
       "    </tr>\n",
       "    <tr>\n",
       "      <th>author_id</th>\n",
       "      <td>0</td>\n",
       "      <td>0.0</td>\n",
       "    </tr>\n",
       "  </tbody>\n",
       "</table>\n",
       "</div>"
      ],
      "text/plain": [
       "                 count    %\n",
       "Unnamed: 0           0  0.0\n",
       "parse_count          0  0.0\n",
       "restaurant_name      0  0.0\n",
       "rating_review        0  0.0\n",
       "sample               0  0.0\n",
       "review_id            0  0.0\n",
       "title_review         0  0.0\n",
       "review_preview       0  0.0\n",
       "review_full          0  0.0\n",
       "date                 0  0.0\n",
       "city                 0  0.0\n",
       "url_restaurant       0  0.0\n",
       "author_id            0  0.0"
      ]
     },
     "execution_count": 10,
     "metadata": {},
     "output_type": "execute_result"
    }
   ],
   "source": [
    "findmissing(madrid)"
   ]
  },
  {
   "cell_type": "code",
   "execution_count": 11,
   "metadata": {},
   "outputs": [
    {
     "data": {
      "text/html": [
       "<div>\n",
       "<style scoped>\n",
       "    .dataframe tbody tr th:only-of-type {\n",
       "        vertical-align: middle;\n",
       "    }\n",
       "\n",
       "    .dataframe tbody tr th {\n",
       "        vertical-align: top;\n",
       "    }\n",
       "\n",
       "    .dataframe thead th {\n",
       "        text-align: right;\n",
       "    }\n",
       "</style>\n",
       "<table border=\"1\" class=\"dataframe\">\n",
       "  <thead>\n",
       "    <tr style=\"text-align: right;\">\n",
       "      <th></th>\n",
       "      <th>count</th>\n",
       "      <th>%</th>\n",
       "    </tr>\n",
       "  </thead>\n",
       "  <tbody>\n",
       "    <tr>\n",
       "      <th>Unnamed: 0</th>\n",
       "      <td>0</td>\n",
       "      <td>0.000000</td>\n",
       "    </tr>\n",
       "    <tr>\n",
       "      <th>parse_count</th>\n",
       "      <td>0</td>\n",
       "      <td>0.000000</td>\n",
       "    </tr>\n",
       "    <tr>\n",
       "      <th>restaurant_name</th>\n",
       "      <td>0</td>\n",
       "      <td>0.000000</td>\n",
       "    </tr>\n",
       "    <tr>\n",
       "      <th>rating_review</th>\n",
       "      <td>0</td>\n",
       "      <td>0.000000</td>\n",
       "    </tr>\n",
       "    <tr>\n",
       "      <th>sample</th>\n",
       "      <td>0</td>\n",
       "      <td>0.000000</td>\n",
       "    </tr>\n",
       "    <tr>\n",
       "      <th>review_id</th>\n",
       "      <td>0</td>\n",
       "      <td>0.000000</td>\n",
       "    </tr>\n",
       "    <tr>\n",
       "      <th>title_review</th>\n",
       "      <td>2</td>\n",
       "      <td>0.001006</td>\n",
       "    </tr>\n",
       "    <tr>\n",
       "      <th>review_preview</th>\n",
       "      <td>2</td>\n",
       "      <td>0.001006</td>\n",
       "    </tr>\n",
       "    <tr>\n",
       "      <th>review_full</th>\n",
       "      <td>51174</td>\n",
       "      <td>25.745075</td>\n",
       "    </tr>\n",
       "    <tr>\n",
       "      <th>date</th>\n",
       "      <td>51174</td>\n",
       "      <td>25.745075</td>\n",
       "    </tr>\n",
       "    <tr>\n",
       "      <th>city</th>\n",
       "      <td>51174</td>\n",
       "      <td>25.745075</td>\n",
       "    </tr>\n",
       "    <tr>\n",
       "      <th>url_restaurant</th>\n",
       "      <td>51174</td>\n",
       "      <td>25.745075</td>\n",
       "    </tr>\n",
       "    <tr>\n",
       "      <th>author_id</th>\n",
       "      <td>51174</td>\n",
       "      <td>25.745075</td>\n",
       "    </tr>\n",
       "  </tbody>\n",
       "</table>\n",
       "</div>"
      ],
      "text/plain": [
       "                 count          %\n",
       "Unnamed: 0           0   0.000000\n",
       "parse_count          0   0.000000\n",
       "restaurant_name      0   0.000000\n",
       "rating_review        0   0.000000\n",
       "sample               0   0.000000\n",
       "review_id            0   0.000000\n",
       "title_review         2   0.001006\n",
       "review_preview       2   0.001006\n",
       "review_full      51174  25.745075\n",
       "date             51174  25.745075\n",
       "city             51174  25.745075\n",
       "url_restaurant   51174  25.745075\n",
       "author_id        51174  25.745075"
      ]
     },
     "execution_count": 11,
     "metadata": {},
     "output_type": "execute_result"
    }
   ],
   "source": [
    "findmissing(newdelhi)"
   ]
  },
  {
   "cell_type": "code",
   "execution_count": 12,
   "metadata": {},
   "outputs": [
    {
     "data": {
      "text/html": [
       "<div>\n",
       "<style scoped>\n",
       "    .dataframe tbody tr th:only-of-type {\n",
       "        vertical-align: middle;\n",
       "    }\n",
       "\n",
       "    .dataframe tbody tr th {\n",
       "        vertical-align: top;\n",
       "    }\n",
       "\n",
       "    .dataframe thead th {\n",
       "        text-align: right;\n",
       "    }\n",
       "</style>\n",
       "<table border=\"1\" class=\"dataframe\">\n",
       "  <thead>\n",
       "    <tr style=\"text-align: right;\">\n",
       "      <th></th>\n",
       "      <th>Unnamed: 0</th>\n",
       "      <th>parse_count</th>\n",
       "      <th>restaurant_name</th>\n",
       "      <th>rating_review</th>\n",
       "      <th>sample</th>\n",
       "      <th>review_id</th>\n",
       "      <th>title_review</th>\n",
       "      <th>review_preview</th>\n",
       "      <th>review_full</th>\n",
       "      <th>date</th>\n",
       "      <th>city</th>\n",
       "      <th>url_restaurant</th>\n",
       "      <th>author_id</th>\n",
       "    </tr>\n",
       "  </thead>\n",
       "  <tbody>\n",
       "    <tr>\n",
       "      <th>79901</th>\n",
       "      <td>80469</td>\n",
       "      <td>80470</td>\n",
       "      <td>Hi_Mircheee</td>\n",
       "      <td>3</td>\n",
       "      <td>Negative</td>\n",
       "      <td>review_217165049</td>\n",
       "      <td>over priced</td>\n",
       "      <td>this is a over priced restro with no taste in ...</td>\n",
       "      <td>NaN</td>\n",
       "      <td>NaN</td>\n",
       "      <td>NaN</td>\n",
       "      <td>NaN</td>\n",
       "      <td>NaN</td>\n",
       "    </tr>\n",
       "    <tr>\n",
       "      <th>79902</th>\n",
       "      <td>80469</td>\n",
       "      <td>80470</td>\n",
       "      <td>Hi_Mircheee</td>\n",
       "      <td>3</td>\n",
       "      <td>Negative</td>\n",
       "      <td>review_217165049</td>\n",
       "      <td>over priced</td>\n",
       "      <td>this is a over priced restro with no taste in ...</td>\n",
       "      <td>NaN</td>\n",
       "      <td>NaN</td>\n",
       "      <td>NaN</td>\n",
       "      <td>NaN</td>\n",
       "      <td>NaN</td>\n",
       "    </tr>\n",
       "    <tr>\n",
       "      <th>79903</th>\n",
       "      <td>80469</td>\n",
       "      <td>80470</td>\n",
       "      <td>Hi_Mircheee</td>\n",
       "      <td>3</td>\n",
       "      <td>Negative</td>\n",
       "      <td>review_217165049</td>\n",
       "      <td>over priced</td>\n",
       "      <td>this is a over priced restro with no taste in ...</td>\n",
       "      <td>NaN</td>\n",
       "      <td>NaN</td>\n",
       "      <td>NaN</td>\n",
       "      <td>NaN</td>\n",
       "      <td>NaN</td>\n",
       "    </tr>\n",
       "    <tr>\n",
       "      <th>79904</th>\n",
       "      <td>80469</td>\n",
       "      <td>80470</td>\n",
       "      <td>Hi_Mircheee</td>\n",
       "      <td>3</td>\n",
       "      <td>Negative</td>\n",
       "      <td>review_217165049</td>\n",
       "      <td>over priced</td>\n",
       "      <td>this is a over priced restro with no taste in ...</td>\n",
       "      <td>NaN</td>\n",
       "      <td>NaN</td>\n",
       "      <td>NaN</td>\n",
       "      <td>NaN</td>\n",
       "      <td>NaN</td>\n",
       "    </tr>\n",
       "    <tr>\n",
       "      <th>79905</th>\n",
       "      <td>80469</td>\n",
       "      <td>80470</td>\n",
       "      <td>Hi_Mircheee</td>\n",
       "      <td>3</td>\n",
       "      <td>Negative</td>\n",
       "      <td>review_217165049</td>\n",
       "      <td>over priced</td>\n",
       "      <td>this is a over priced restro with no taste in ...</td>\n",
       "      <td>NaN</td>\n",
       "      <td>NaN</td>\n",
       "      <td>NaN</td>\n",
       "      <td>NaN</td>\n",
       "      <td>NaN</td>\n",
       "    </tr>\n",
       "    <tr>\n",
       "      <th>...</th>\n",
       "      <td>...</td>\n",
       "      <td>...</td>\n",
       "      <td>...</td>\n",
       "      <td>...</td>\n",
       "      <td>...</td>\n",
       "      <td>...</td>\n",
       "      <td>...</td>\n",
       "      <td>...</td>\n",
       "      <td>...</td>\n",
       "      <td>...</td>\n",
       "      <td>...</td>\n",
       "      <td>...</td>\n",
       "      <td>...</td>\n",
       "    </tr>\n",
       "    <tr>\n",
       "      <th>131070</th>\n",
       "      <td>80469</td>\n",
       "      <td>80470</td>\n",
       "      <td>Hi_Mircheee</td>\n",
       "      <td>3</td>\n",
       "      <td>Negative</td>\n",
       "      <td>review_217165049</td>\n",
       "      <td>over priced</td>\n",
       "      <td>this is a over priced restro with no taste in ...</td>\n",
       "      <td>NaN</td>\n",
       "      <td>NaN</td>\n",
       "      <td>NaN</td>\n",
       "      <td>NaN</td>\n",
       "      <td>NaN</td>\n",
       "    </tr>\n",
       "    <tr>\n",
       "      <th>131071</th>\n",
       "      <td>80469</td>\n",
       "      <td>80470</td>\n",
       "      <td>Hi_Mircheee</td>\n",
       "      <td>3</td>\n",
       "      <td>Negative</td>\n",
       "      <td>review_217165049</td>\n",
       "      <td>over priced</td>\n",
       "      <td>this is a over priced restro with no taste in ...</td>\n",
       "      <td>NaN</td>\n",
       "      <td>NaN</td>\n",
       "      <td>NaN</td>\n",
       "      <td>NaN</td>\n",
       "      <td>NaN</td>\n",
       "    </tr>\n",
       "    <tr>\n",
       "      <th>131072</th>\n",
       "      <td>most of the time u end up wating 30 40 min fo...</td>\n",
       "      <td>this is a over priced restro with no taste in ...</td>\n",
       "      <td>July 23, 2014</td>\n",
       "      <td>New_Delhi_National_Capital_Territory_of_Delhi</td>\n",
       "      <td>https://www.tripadvisor.com/Restaurant_Review-...</td>\n",
       "      <td>UID_7681</td>\n",
       "      <td>NaN</td>\n",
       "      <td>NaN</td>\n",
       "      <td>NaN</td>\n",
       "      <td>NaN</td>\n",
       "      <td>NaN</td>\n",
       "      <td>NaN</td>\n",
       "      <td>NaN</td>\n",
       "    </tr>\n",
       "    <tr>\n",
       "      <th>192355</th>\n",
       "      <td>142015</td>\n",
       "      <td>142016</td>\n",
       "      <td>The_Great_Kabab_Factory</td>\n",
       "      <td>5</td>\n",
       "      <td>Positive</td>\n",
       "      <td>review_201442126</td>\n",
       "      <td>awesome starters and desserts</td>\n",
       "      <td>well this review is a bit late as i dined here...</td>\n",
       "      <td>NaN</td>\n",
       "      <td>NaN</td>\n",
       "      <td>NaN</td>\n",
       "      <td>NaN</td>\n",
       "      <td>NaN</td>\n",
       "    </tr>\n",
       "    <tr>\n",
       "      <th>192356</th>\n",
       "      <td>the buffet offered both veg and non veg are ju...</td>\n",
       "      <td>well this review is a bit late as i dined here...</td>\n",
       "      <td>April 16, 2014</td>\n",
       "      <td>New_Delhi_National_Capital_Territory_of_Delhi</td>\n",
       "      <td>https://www.tripadvisor.com/Restaurant_Review-...</td>\n",
       "      <td>UID_11618</td>\n",
       "      <td>NaN</td>\n",
       "      <td>NaN</td>\n",
       "      <td>NaN</td>\n",
       "      <td>NaN</td>\n",
       "      <td>NaN</td>\n",
       "      <td>NaN</td>\n",
       "      <td>NaN</td>\n",
       "    </tr>\n",
       "  </tbody>\n",
       "</table>\n",
       "<p>51174 rows × 13 columns</p>\n",
       "</div>"
      ],
      "text/plain": [
       "                                               Unnamed: 0  \\\n",
       "79901                                               80469   \n",
       "79902                                               80469   \n",
       "79903                                               80469   \n",
       "79904                                               80469   \n",
       "79905                                               80469   \n",
       "...                                                   ...   \n",
       "131070                                              80469   \n",
       "131071                                              80469   \n",
       "131072   most of the time u end up wating 30 40 min fo...   \n",
       "192355                                             142015   \n",
       "192356  the buffet offered both veg and non veg are ju...   \n",
       "\n",
       "                                              parse_count  \\\n",
       "79901                                               80470   \n",
       "79902                                               80470   \n",
       "79903                                               80470   \n",
       "79904                                               80470   \n",
       "79905                                               80470   \n",
       "...                                                   ...   \n",
       "131070                                              80470   \n",
       "131071                                              80470   \n",
       "131072  this is a over priced restro with no taste in ...   \n",
       "192355                                             142016   \n",
       "192356  well this review is a bit late as i dined here...   \n",
       "\n",
       "                restaurant_name  \\\n",
       "79901               Hi_Mircheee   \n",
       "79902               Hi_Mircheee   \n",
       "79903               Hi_Mircheee   \n",
       "79904               Hi_Mircheee   \n",
       "79905               Hi_Mircheee   \n",
       "...                         ...   \n",
       "131070              Hi_Mircheee   \n",
       "131071              Hi_Mircheee   \n",
       "131072            July 23, 2014   \n",
       "192355  The_Great_Kabab_Factory   \n",
       "192356           April 16, 2014   \n",
       "\n",
       "                                        rating_review  \\\n",
       "79901                                               3   \n",
       "79902                                               3   \n",
       "79903                                               3   \n",
       "79904                                               3   \n",
       "79905                                               3   \n",
       "...                                               ...   \n",
       "131070                                              3   \n",
       "131071                                              3   \n",
       "131072  New_Delhi_National_Capital_Territory_of_Delhi   \n",
       "192355                                              5   \n",
       "192356  New_Delhi_National_Capital_Territory_of_Delhi   \n",
       "\n",
       "                                                   sample         review_id  \\\n",
       "79901                                            Negative  review_217165049   \n",
       "79902                                            Negative  review_217165049   \n",
       "79903                                            Negative  review_217165049   \n",
       "79904                                            Negative  review_217165049   \n",
       "79905                                            Negative  review_217165049   \n",
       "...                                                   ...               ...   \n",
       "131070                                           Negative  review_217165049   \n",
       "131071                                           Negative  review_217165049   \n",
       "131072  https://www.tripadvisor.com/Restaurant_Review-...          UID_7681   \n",
       "192355                                           Positive  review_201442126   \n",
       "192356  https://www.tripadvisor.com/Restaurant_Review-...         UID_11618   \n",
       "\n",
       "                         title_review  \\\n",
       "79901                     over priced   \n",
       "79902                     over priced   \n",
       "79903                     over priced   \n",
       "79904                     over priced   \n",
       "79905                     over priced   \n",
       "...                               ...   \n",
       "131070                    over priced   \n",
       "131071                    over priced   \n",
       "131072                            NaN   \n",
       "192355  awesome starters and desserts   \n",
       "192356                            NaN   \n",
       "\n",
       "                                           review_preview review_full date  \\\n",
       "79901   this is a over priced restro with no taste in ...         NaN  NaN   \n",
       "79902   this is a over priced restro with no taste in ...         NaN  NaN   \n",
       "79903   this is a over priced restro with no taste in ...         NaN  NaN   \n",
       "79904   this is a over priced restro with no taste in ...         NaN  NaN   \n",
       "79905   this is a over priced restro with no taste in ...         NaN  NaN   \n",
       "...                                                   ...         ...  ...   \n",
       "131070  this is a over priced restro with no taste in ...         NaN  NaN   \n",
       "131071  this is a over priced restro with no taste in ...         NaN  NaN   \n",
       "131072                                                NaN         NaN  NaN   \n",
       "192355  well this review is a bit late as i dined here...         NaN  NaN   \n",
       "192356                                                NaN         NaN  NaN   \n",
       "\n",
       "       city url_restaurant author_id  \n",
       "79901   NaN            NaN       NaN  \n",
       "79902   NaN            NaN       NaN  \n",
       "79903   NaN            NaN       NaN  \n",
       "79904   NaN            NaN       NaN  \n",
       "79905   NaN            NaN       NaN  \n",
       "...     ...            ...       ...  \n",
       "131070  NaN            NaN       NaN  \n",
       "131071  NaN            NaN       NaN  \n",
       "131072  NaN            NaN       NaN  \n",
       "192355  NaN            NaN       NaN  \n",
       "192356  NaN            NaN       NaN  \n",
       "\n",
       "[51174 rows x 13 columns]"
      ]
     },
     "execution_count": 12,
     "metadata": {},
     "output_type": "execute_result"
    }
   ],
   "source": [
    "findnull(newdelhi)"
   ]
  },
  {
   "cell_type": "code",
   "execution_count": 13,
   "metadata": {},
   "outputs": [
    {
     "data": {
      "text/html": [
       "<div>\n",
       "<style scoped>\n",
       "    .dataframe tbody tr th:only-of-type {\n",
       "        vertical-align: middle;\n",
       "    }\n",
       "\n",
       "    .dataframe tbody tr th {\n",
       "        vertical-align: top;\n",
       "    }\n",
       "\n",
       "    .dataframe thead th {\n",
       "        text-align: right;\n",
       "    }\n",
       "</style>\n",
       "<table border=\"1\" class=\"dataframe\">\n",
       "  <thead>\n",
       "    <tr style=\"text-align: right;\">\n",
       "      <th></th>\n",
       "      <th>count</th>\n",
       "      <th>%</th>\n",
       "    </tr>\n",
       "  </thead>\n",
       "  <tbody>\n",
       "    <tr>\n",
       "      <th>Unnamed: 0</th>\n",
       "      <td>0</td>\n",
       "      <td>0.000000</td>\n",
       "    </tr>\n",
       "    <tr>\n",
       "      <th>parse_count</th>\n",
       "      <td>0</td>\n",
       "      <td>0.000000</td>\n",
       "    </tr>\n",
       "    <tr>\n",
       "      <th>restaurant_name</th>\n",
       "      <td>0</td>\n",
       "      <td>0.000000</td>\n",
       "    </tr>\n",
       "    <tr>\n",
       "      <th>rating_review</th>\n",
       "      <td>0</td>\n",
       "      <td>0.000000</td>\n",
       "    </tr>\n",
       "    <tr>\n",
       "      <th>sample</th>\n",
       "      <td>0</td>\n",
       "      <td>0.000000</td>\n",
       "    </tr>\n",
       "    <tr>\n",
       "      <th>review_id</th>\n",
       "      <td>0</td>\n",
       "      <td>0.000000</td>\n",
       "    </tr>\n",
       "    <tr>\n",
       "      <th>title_review</th>\n",
       "      <td>1</td>\n",
       "      <td>0.000196</td>\n",
       "    </tr>\n",
       "    <tr>\n",
       "      <th>review_preview</th>\n",
       "      <td>1</td>\n",
       "      <td>0.000196</td>\n",
       "    </tr>\n",
       "    <tr>\n",
       "      <th>review_full</th>\n",
       "      <td>2</td>\n",
       "      <td>0.000392</td>\n",
       "    </tr>\n",
       "    <tr>\n",
       "      <th>date</th>\n",
       "      <td>2</td>\n",
       "      <td>0.000392</td>\n",
       "    </tr>\n",
       "    <tr>\n",
       "      <th>city</th>\n",
       "      <td>2</td>\n",
       "      <td>0.000392</td>\n",
       "    </tr>\n",
       "    <tr>\n",
       "      <th>url_restaurant</th>\n",
       "      <td>2</td>\n",
       "      <td>0.000392</td>\n",
       "    </tr>\n",
       "    <tr>\n",
       "      <th>author_id</th>\n",
       "      <td>2</td>\n",
       "      <td>0.000392</td>\n",
       "    </tr>\n",
       "  </tbody>\n",
       "</table>\n",
       "</div>"
      ],
      "text/plain": [
       "                 count         %\n",
       "Unnamed: 0           0  0.000000\n",
       "parse_count          0  0.000000\n",
       "restaurant_name      0  0.000000\n",
       "rating_review        0  0.000000\n",
       "sample               0  0.000000\n",
       "review_id            0  0.000000\n",
       "title_review         1  0.000196\n",
       "review_preview       1  0.000196\n",
       "review_full          2  0.000392\n",
       "date                 2  0.000392\n",
       "city                 2  0.000392\n",
       "url_restaurant       2  0.000392\n",
       "author_id            2  0.000392"
      ]
     },
     "execution_count": 13,
     "metadata": {},
     "output_type": "execute_result"
    }
   ],
   "source": [
    "findmissing(newyork)"
   ]
  },
  {
   "cell_type": "code",
   "execution_count": 14,
   "metadata": {},
   "outputs": [
    {
     "data": {
      "text/html": [
       "<div>\n",
       "<style scoped>\n",
       "    .dataframe tbody tr th:only-of-type {\n",
       "        vertical-align: middle;\n",
       "    }\n",
       "\n",
       "    .dataframe tbody tr th {\n",
       "        vertical-align: top;\n",
       "    }\n",
       "\n",
       "    .dataframe thead th {\n",
       "        text-align: right;\n",
       "    }\n",
       "</style>\n",
       "<table border=\"1\" class=\"dataframe\">\n",
       "  <thead>\n",
       "    <tr style=\"text-align: right;\">\n",
       "      <th></th>\n",
       "      <th>Unnamed: 0</th>\n",
       "      <th>parse_count</th>\n",
       "      <th>restaurant_name</th>\n",
       "      <th>rating_review</th>\n",
       "      <th>sample</th>\n",
       "      <th>review_id</th>\n",
       "      <th>title_review</th>\n",
       "      <th>review_preview</th>\n",
       "      <th>review_full</th>\n",
       "      <th>date</th>\n",
       "      <th>city</th>\n",
       "      <th>url_restaurant</th>\n",
       "      <th>author_id</th>\n",
       "    </tr>\n",
       "  </thead>\n",
       "  <tbody>\n",
       "    <tr>\n",
       "      <th>300450</th>\n",
       "      <td>304661</td>\n",
       "      <td>304662</td>\n",
       "      <td>Rosa_Mexicano</td>\n",
       "      <td>5</td>\n",
       "      <td>Positive</td>\n",
       "      <td>review_457424042</td>\n",
       "      <td>Special birthday dinner while visiting from En...</td>\n",
       "      <td>Went on recommendation from a friend. Service ...</td>\n",
       "      <td>NaN</td>\n",
       "      <td>NaN</td>\n",
       "      <td>NaN</td>\n",
       "      <td>NaN</td>\n",
       "      <td>NaN</td>\n",
       "    </tr>\n",
       "    <tr>\n",
       "      <th>300451</th>\n",
       "      <td>roasted poblano chile. And good value. Best me...</td>\n",
       "      <td>Went on recommendation from a friend. Service ...</td>\n",
       "      <td>February 5, 2017</td>\n",
       "      <td>New_York_City_New_York</td>\n",
       "      <td>https://www.tripadvisor.com/Restaurant_Review-...</td>\n",
       "      <td>UID_173516</td>\n",
       "      <td>NaN</td>\n",
       "      <td>NaN</td>\n",
       "      <td>NaN</td>\n",
       "      <td>NaN</td>\n",
       "      <td>NaN</td>\n",
       "      <td>NaN</td>\n",
       "      <td>NaN</td>\n",
       "    </tr>\n",
       "  </tbody>\n",
       "</table>\n",
       "</div>"
      ],
      "text/plain": [
       "                                               Unnamed: 0  \\\n",
       "300450                                             304661   \n",
       "300451  roasted poblano chile. And good value. Best me...   \n",
       "\n",
       "                                              parse_count   restaurant_name  \\\n",
       "300450                                             304662     Rosa_Mexicano   \n",
       "300451  Went on recommendation from a friend. Service ...  February 5, 2017   \n",
       "\n",
       "                 rating_review  \\\n",
       "300450                       5   \n",
       "300451  New_York_City_New_York   \n",
       "\n",
       "                                                   sample         review_id  \\\n",
       "300450                                           Positive  review_457424042   \n",
       "300451  https://www.tripadvisor.com/Restaurant_Review-...        UID_173516   \n",
       "\n",
       "                                             title_review  \\\n",
       "300450  Special birthday dinner while visiting from En...   \n",
       "300451                                                NaN   \n",
       "\n",
       "                                           review_preview review_full date  \\\n",
       "300450  Went on recommendation from a friend. Service ...         NaN  NaN   \n",
       "300451                                                NaN         NaN  NaN   \n",
       "\n",
       "       city url_restaurant author_id  \n",
       "300450  NaN            NaN       NaN  \n",
       "300451  NaN            NaN       NaN  "
      ]
     },
     "execution_count": 14,
     "metadata": {},
     "output_type": "execute_result"
    }
   ],
   "source": [
    "findnull(newyork)"
   ]
  },
  {
   "cell_type": "code",
   "execution_count": 15,
   "metadata": {},
   "outputs": [
    {
     "data": {
      "text/html": [
       "<div>\n",
       "<style scoped>\n",
       "    .dataframe tbody tr th:only-of-type {\n",
       "        vertical-align: middle;\n",
       "    }\n",
       "\n",
       "    .dataframe tbody tr th {\n",
       "        vertical-align: top;\n",
       "    }\n",
       "\n",
       "    .dataframe thead th {\n",
       "        text-align: right;\n",
       "    }\n",
       "</style>\n",
       "<table border=\"1\" class=\"dataframe\">\n",
       "  <thead>\n",
       "    <tr style=\"text-align: right;\">\n",
       "      <th></th>\n",
       "      <th>count</th>\n",
       "      <th>%</th>\n",
       "    </tr>\n",
       "  </thead>\n",
       "  <tbody>\n",
       "    <tr>\n",
       "      <th>Unnamed: 0</th>\n",
       "      <td>0</td>\n",
       "      <td>0.000000</td>\n",
       "    </tr>\n",
       "    <tr>\n",
       "      <th>parse_count</th>\n",
       "      <td>0</td>\n",
       "      <td>0.000000</td>\n",
       "    </tr>\n",
       "    <tr>\n",
       "      <th>restaurant_name</th>\n",
       "      <td>0</td>\n",
       "      <td>0.000000</td>\n",
       "    </tr>\n",
       "    <tr>\n",
       "      <th>rating_review</th>\n",
       "      <td>0</td>\n",
       "      <td>0.000000</td>\n",
       "    </tr>\n",
       "    <tr>\n",
       "      <th>sample</th>\n",
       "      <td>0</td>\n",
       "      <td>0.000000</td>\n",
       "    </tr>\n",
       "    <tr>\n",
       "      <th>review_id</th>\n",
       "      <td>0</td>\n",
       "      <td>0.000000</td>\n",
       "    </tr>\n",
       "    <tr>\n",
       "      <th>title_review</th>\n",
       "      <td>1</td>\n",
       "      <td>0.000197</td>\n",
       "    </tr>\n",
       "    <tr>\n",
       "      <th>review_preview</th>\n",
       "      <td>1</td>\n",
       "      <td>0.000197</td>\n",
       "    </tr>\n",
       "    <tr>\n",
       "      <th>review_full</th>\n",
       "      <td>2</td>\n",
       "      <td>0.000394</td>\n",
       "    </tr>\n",
       "    <tr>\n",
       "      <th>date</th>\n",
       "      <td>2</td>\n",
       "      <td>0.000394</td>\n",
       "    </tr>\n",
       "    <tr>\n",
       "      <th>city</th>\n",
       "      <td>2</td>\n",
       "      <td>0.000394</td>\n",
       "    </tr>\n",
       "    <tr>\n",
       "      <th>url_restaurant</th>\n",
       "      <td>2</td>\n",
       "      <td>0.000394</td>\n",
       "    </tr>\n",
       "    <tr>\n",
       "      <th>author_id</th>\n",
       "      <td>2</td>\n",
       "      <td>0.000394</td>\n",
       "    </tr>\n",
       "  </tbody>\n",
       "</table>\n",
       "</div>"
      ],
      "text/plain": [
       "                 count         %\n",
       "Unnamed: 0           0  0.000000\n",
       "parse_count          0  0.000000\n",
       "restaurant_name      0  0.000000\n",
       "rating_review        0  0.000000\n",
       "sample               0  0.000000\n",
       "review_id            0  0.000000\n",
       "title_review         1  0.000197\n",
       "review_preview       1  0.000197\n",
       "review_full          2  0.000394\n",
       "date                 2  0.000394\n",
       "city                 2  0.000394\n",
       "url_restaurant       2  0.000394\n",
       "author_id            2  0.000394"
      ]
     },
     "execution_count": 15,
     "metadata": {},
     "output_type": "execute_result"
    }
   ],
   "source": [
    "findmissing(paris)"
   ]
  },
  {
   "cell_type": "code",
   "execution_count": 16,
   "metadata": {},
   "outputs": [
    {
     "data": {
      "text/html": [
       "<div>\n",
       "<style scoped>\n",
       "    .dataframe tbody tr th:only-of-type {\n",
       "        vertical-align: middle;\n",
       "    }\n",
       "\n",
       "    .dataframe tbody tr th {\n",
       "        vertical-align: top;\n",
       "    }\n",
       "\n",
       "    .dataframe thead th {\n",
       "        text-align: right;\n",
       "    }\n",
       "</style>\n",
       "<table border=\"1\" class=\"dataframe\">\n",
       "  <thead>\n",
       "    <tr style=\"text-align: right;\">\n",
       "      <th></th>\n",
       "      <th>Unnamed: 0</th>\n",
       "      <th>parse_count</th>\n",
       "      <th>restaurant_name</th>\n",
       "      <th>rating_review</th>\n",
       "      <th>sample</th>\n",
       "      <th>review_id</th>\n",
       "      <th>title_review</th>\n",
       "      <th>review_preview</th>\n",
       "      <th>review_full</th>\n",
       "      <th>date</th>\n",
       "      <th>city</th>\n",
       "      <th>url_restaurant</th>\n",
       "      <th>author_id</th>\n",
       "    </tr>\n",
       "  </thead>\n",
       "  <tbody>\n",
       "    <tr>\n",
       "      <th>377201</th>\n",
       "      <td>382266</td>\n",
       "      <td>382267</td>\n",
       "      <td>Cafe_George_V</td>\n",
       "      <td>3</td>\n",
       "      <td>Negative</td>\n",
       "      <td>review_279955176</td>\n",
       "      <td>Lovely location but ask the price before order...</td>\n",
       "      <td>5 of us walked miles from the Louvre along Ave...</td>\n",
       "      <td>NaN</td>\n",
       "      <td>NaN</td>\n",
       "      <td>NaN</td>\n",
       "      <td>NaN</td>\n",
       "      <td>NaN</td>\n",
       "    </tr>\n",
       "    <tr>\n",
       "      <th>377202</th>\n",
       "      <td>We were quickly showed...</td>\n",
       "      <td>5 of us walked miles from the Louvre along Ave...</td>\n",
       "      <td>June 13, 2015</td>\n",
       "      <td>Paris_Ile_de_France</td>\n",
       "      <td>https://www.tripadvisor.com/Restaurant_Review-...</td>\n",
       "      <td>UID_148676</td>\n",
       "      <td>NaN</td>\n",
       "      <td>NaN</td>\n",
       "      <td>NaN</td>\n",
       "      <td>NaN</td>\n",
       "      <td>NaN</td>\n",
       "      <td>NaN</td>\n",
       "      <td>NaN</td>\n",
       "    </tr>\n",
       "  </tbody>\n",
       "</table>\n",
       "</div>"
      ],
      "text/plain": [
       "                       Unnamed: 0  \\\n",
       "377201                     382266   \n",
       "377202  We were quickly showed...   \n",
       "\n",
       "                                              parse_count restaurant_name  \\\n",
       "377201                                             382267   Cafe_George_V   \n",
       "377202  5 of us walked miles from the Louvre along Ave...   June 13, 2015   \n",
       "\n",
       "              rating_review  \\\n",
       "377201                    3   \n",
       "377202  Paris_Ile_de_France   \n",
       "\n",
       "                                                   sample         review_id  \\\n",
       "377201                                           Negative  review_279955176   \n",
       "377202  https://www.tripadvisor.com/Restaurant_Review-...        UID_148676   \n",
       "\n",
       "                                             title_review  \\\n",
       "377201  Lovely location but ask the price before order...   \n",
       "377202                                                NaN   \n",
       "\n",
       "                                           review_preview review_full date  \\\n",
       "377201  5 of us walked miles from the Louvre along Ave...         NaN  NaN   \n",
       "377202                                                NaN         NaN  NaN   \n",
       "\n",
       "       city url_restaurant author_id  \n",
       "377201  NaN            NaN       NaN  \n",
       "377202  NaN            NaN       NaN  "
      ]
     },
     "execution_count": 16,
     "metadata": {},
     "output_type": "execute_result"
    }
   ],
   "source": [
    "findnull(paris)"
   ]
  },
  {
   "cell_type": "markdown",
   "metadata": {},
   "source": [
    "### 2.2. Change the 'City' Column with the corresponding city name for all dataframe:"
   ]
  },
  {
   "cell_type": "code",
   "execution_count": 17,
   "metadata": {},
   "outputs": [],
   "source": [
    "barcelona['city'] = 'Barcelona'\n",
    "london['city'] = 'London'\n",
    "madrid['city'] = 'Madrid'\n",
    "newdelhi['city'] = 'New_Delhi'\n",
    "newyork['city'] = 'New_York'\n",
    "paris['city'] = 'Paris'"
   ]
  },
  {
   "cell_type": "markdown",
   "metadata": {},
   "source": [
    "### 2.3. Merge the Dataframes:"
   ]
  },
  {
   "cell_type": "code",
   "execution_count": 18,
   "metadata": {},
   "outputs": [],
   "source": [
    "# all_dfs = [barcelona, london, madrid, newdelhi, newyork, paris]\n",
    "df = pd.concat([barcelona, london, madrid, newdelhi, newyork, paris]).reset_index(drop=True)"
   ]
  },
  {
   "cell_type": "code",
   "execution_count": 19,
   "metadata": {},
   "outputs": [],
   "source": [
    "#barcelona = barcelona.dropna(how='any',axis=0)\n",
    "#london = london.dropna(how='any',axis=0)\n",
    "#madrid = madrid.dropna(how='any',axis=0)\n",
    "#newdelhi = newdelhi.dropna(how='any',axis=0)\n",
    "#newyork = newyork.dropna(how='any',axis=0)\n",
    "#paris = paris.dropna(how='any',axis=0)"
   ]
  },
  {
   "cell_type": "code",
   "execution_count": 20,
   "metadata": {},
   "outputs": [
    {
     "name": "stdout",
     "output_type": "stream",
     "text": [
      "<class 'pandas.core.frame.DataFrame'>\n",
      "RangeIndex: 2807208 entries, 0 to 2807207\n",
      "Data columns (total 13 columns):\n",
      " #   Column           Dtype \n",
      "---  ------           ----- \n",
      " 0   Unnamed: 0       object\n",
      " 1   parse_count      object\n",
      " 2   restaurant_name  object\n",
      " 3   rating_review    object\n",
      " 4   sample           object\n",
      " 5   review_id        object\n",
      " 6   title_review     object\n",
      " 7   review_preview   object\n",
      " 8   review_full      object\n",
      " 9   date             object\n",
      " 10  city             object\n",
      " 11  url_restaurant   object\n",
      " 12  author_id        object\n",
      "dtypes: object(13)\n",
      "memory usage: 278.4+ MB\n"
     ]
    }
   ],
   "source": [
    "df.info()"
   ]
  },
  {
   "cell_type": "markdown",
   "metadata": {},
   "source": [
    "### 2.4. Drop all Unnecessary Columns:"
   ]
  },
  {
   "cell_type": "code",
   "execution_count": 21,
   "metadata": {},
   "outputs": [],
   "source": [
    "df.drop(columns=[\"Unnamed: 0\",\"parse_count\",\"review_id\",\"url_restaurant\",\"author_id\",\"date\",\"title_review\",\"review_preview\"],inplace=True)"
   ]
  },
  {
   "cell_type": "code",
   "execution_count": 22,
   "metadata": {},
   "outputs": [
    {
     "data": {
      "text/html": [
       "<div>\n",
       "<style scoped>\n",
       "    .dataframe tbody tr th:only-of-type {\n",
       "        vertical-align: middle;\n",
       "    }\n",
       "\n",
       "    .dataframe tbody tr th {\n",
       "        vertical-align: top;\n",
       "    }\n",
       "\n",
       "    .dataframe thead th {\n",
       "        text-align: right;\n",
       "    }\n",
       "</style>\n",
       "<table border=\"1\" class=\"dataframe\">\n",
       "  <thead>\n",
       "    <tr style=\"text-align: right;\">\n",
       "      <th></th>\n",
       "      <th>restaurant_name</th>\n",
       "      <th>rating_review</th>\n",
       "      <th>sample</th>\n",
       "      <th>review_full</th>\n",
       "      <th>city</th>\n",
       "    </tr>\n",
       "  </thead>\n",
       "  <tbody>\n",
       "    <tr>\n",
       "      <th>0</th>\n",
       "      <td>Chalito_Rambla</td>\n",
       "      <td>1</td>\n",
       "      <td>Negative</td>\n",
       "      <td>Ok, this place is terrible! Came here bc we’ve...</td>\n",
       "      <td>Barcelona</td>\n",
       "    </tr>\n",
       "    <tr>\n",
       "      <th>1</th>\n",
       "      <td>Chalito_Rambla</td>\n",
       "      <td>5</td>\n",
       "      <td>Positive</td>\n",
       "      <td>This place was a great surprise. The food is d...</td>\n",
       "      <td>Barcelona</td>\n",
       "    </tr>\n",
       "    <tr>\n",
       "      <th>2</th>\n",
       "      <td>Chalito_Rambla</td>\n",
       "      <td>5</td>\n",
       "      <td>Positive</td>\n",
       "      <td>The food is excellent.....the ambiance is very...</td>\n",
       "      <td>Barcelona</td>\n",
       "    </tr>\n",
       "    <tr>\n",
       "      <th>3</th>\n",
       "      <td>Chalito_Rambla</td>\n",
       "      <td>5</td>\n",
       "      <td>Positive</td>\n",
       "      <td>The food is execellent ,affortable price for p...</td>\n",
       "      <td>Barcelona</td>\n",
       "    </tr>\n",
       "    <tr>\n",
       "      <th>4</th>\n",
       "      <td>Chalito_Rambla</td>\n",
       "      <td>5</td>\n",
       "      <td>Positive</td>\n",
       "      <td>Mr Suarez,The food at your restaurant was abso...</td>\n",
       "      <td>Barcelona</td>\n",
       "    </tr>\n",
       "  </tbody>\n",
       "</table>\n",
       "</div>"
      ],
      "text/plain": [
       "  restaurant_name rating_review    sample  \\\n",
       "0  Chalito_Rambla             1  Negative   \n",
       "1  Chalito_Rambla             5  Positive   \n",
       "2  Chalito_Rambla             5  Positive   \n",
       "3  Chalito_Rambla             5  Positive   \n",
       "4  Chalito_Rambla             5  Positive   \n",
       "\n",
       "                                         review_full       city  \n",
       "0  Ok, this place is terrible! Came here bc we’ve...  Barcelona  \n",
       "1  This place was a great surprise. The food is d...  Barcelona  \n",
       "2  The food is excellent.....the ambiance is very...  Barcelona  \n",
       "3  The food is execellent ,affortable price for p...  Barcelona  \n",
       "4  Mr Suarez,The food at your restaurant was abso...  Barcelona  "
      ]
     },
     "execution_count": 22,
     "metadata": {},
     "output_type": "execute_result"
    }
   ],
   "source": [
    "df.head()"
   ]
  },
  {
   "cell_type": "code",
   "execution_count": 23,
   "metadata": {},
   "outputs": [
    {
     "name": "stdout",
     "output_type": "stream",
     "text": [
      "<class 'pandas.core.frame.DataFrame'>\n",
      "RangeIndex: 2807208 entries, 0 to 2807207\n",
      "Data columns (total 5 columns):\n",
      " #   Column           Dtype \n",
      "---  ------           ----- \n",
      " 0   restaurant_name  object\n",
      " 1   rating_review    object\n",
      " 2   sample           object\n",
      " 3   review_full      object\n",
      " 4   city             object\n",
      "dtypes: object(5)\n",
      "memory usage: 107.1+ MB\n"
     ]
    }
   ],
   "source": [
    "df.info()"
   ]
  },
  {
   "cell_type": "code",
   "execution_count": 24,
   "metadata": {},
   "outputs": [
    {
     "data": {
      "text/html": [
       "<div>\n",
       "<style scoped>\n",
       "    .dataframe tbody tr th:only-of-type {\n",
       "        vertical-align: middle;\n",
       "    }\n",
       "\n",
       "    .dataframe tbody tr th {\n",
       "        vertical-align: top;\n",
       "    }\n",
       "\n",
       "    .dataframe thead th {\n",
       "        text-align: right;\n",
       "    }\n",
       "</style>\n",
       "<table border=\"1\" class=\"dataframe\">\n",
       "  <thead>\n",
       "    <tr style=\"text-align: right;\">\n",
       "      <th></th>\n",
       "      <th>count</th>\n",
       "      <th>%</th>\n",
       "    </tr>\n",
       "  </thead>\n",
       "  <tbody>\n",
       "    <tr>\n",
       "      <th>restaurant_name</th>\n",
       "      <td>9</td>\n",
       "      <td>0.000321</td>\n",
       "    </tr>\n",
       "    <tr>\n",
       "      <th>rating_review</th>\n",
       "      <td>9</td>\n",
       "      <td>0.000321</td>\n",
       "    </tr>\n",
       "    <tr>\n",
       "      <th>sample</th>\n",
       "      <td>9</td>\n",
       "      <td>0.000321</td>\n",
       "    </tr>\n",
       "    <tr>\n",
       "      <th>review_full</th>\n",
       "      <td>51201</td>\n",
       "      <td>1.823912</td>\n",
       "    </tr>\n",
       "    <tr>\n",
       "      <th>city</th>\n",
       "      <td>0</td>\n",
       "      <td>0.000000</td>\n",
       "    </tr>\n",
       "  </tbody>\n",
       "</table>\n",
       "</div>"
      ],
      "text/plain": [
       "                 count         %\n",
       "restaurant_name      9  0.000321\n",
       "rating_review        9  0.000321\n",
       "sample               9  0.000321\n",
       "review_full      51201  1.823912\n",
       "city                 0  0.000000"
      ]
     },
     "execution_count": 24,
     "metadata": {},
     "output_type": "execute_result"
    }
   ],
   "source": [
    "findmissing(df)"
   ]
  },
  {
   "cell_type": "code",
   "execution_count": 25,
   "metadata": {},
   "outputs": [
    {
     "data": {
      "text/html": [
       "<div>\n",
       "<style scoped>\n",
       "    .dataframe tbody tr th:only-of-type {\n",
       "        vertical-align: middle;\n",
       "    }\n",
       "\n",
       "    .dataframe tbody tr th {\n",
       "        vertical-align: top;\n",
       "    }\n",
       "\n",
       "    .dataframe thead th {\n",
       "        text-align: right;\n",
       "    }\n",
       "</style>\n",
       "<table border=\"1\" class=\"dataframe\">\n",
       "  <thead>\n",
       "    <tr style=\"text-align: right;\">\n",
       "      <th></th>\n",
       "      <th>restaurant_name</th>\n",
       "      <th>rating_review</th>\n",
       "      <th>sample</th>\n",
       "      <th>review_full</th>\n",
       "      <th>city</th>\n",
       "    </tr>\n",
       "  </thead>\n",
       "  <tbody>\n",
       "    <tr>\n",
       "      <th>187262</th>\n",
       "      <td>Arrosseria_Xativa_Les_Corts</td>\n",
       "      <td>4</td>\n",
       "      <td>Positive</td>\n",
       "      <td>NaN</td>\n",
       "      <td>Barcelona</td>\n",
       "    </tr>\n",
       "    <tr>\n",
       "      <th>187263</th>\n",
       "      <td>June 10, 2014</td>\n",
       "      <td>Barcelona_Catalonia</td>\n",
       "      <td>https://www.tripadvisor.com/Restaurant_Review-...</td>\n",
       "      <td>NaN</td>\n",
       "      <td>Barcelona</td>\n",
       "    </tr>\n",
       "    <tr>\n",
       "      <th>612489</th>\n",
       "      <td>The_Queens_Head</td>\n",
       "      <td>4.0</td>\n",
       "      <td>Positive</td>\n",
       "      <td>NaN</td>\n",
       "      <td>London</td>\n",
       "    </tr>\n",
       "    <tr>\n",
       "      <th>612490</th>\n",
       "      <td>September 10, 2013</td>\n",
       "      <td>London_England</td>\n",
       "      <td>https://www.tripadvisor.com/Restaurant_Review-...</td>\n",
       "      <td>NaN</td>\n",
       "      <td>London</td>\n",
       "    </tr>\n",
       "    <tr>\n",
       "      <th>828375</th>\n",
       "      <td>Hawksmoor_Knightsbridge</td>\n",
       "      <td>5.0</td>\n",
       "      <td>Positive</td>\n",
       "      <td>NaN</td>\n",
       "      <td>London</td>\n",
       "    </tr>\n",
       "    <tr>\n",
       "      <th>...</th>\n",
       "      <td>...</td>\n",
       "      <td>...</td>\n",
       "      <td>...</td>\n",
       "      <td>...</td>\n",
       "      <td>...</td>\n",
       "    </tr>\n",
       "    <tr>\n",
       "      <th>1782127</th>\n",
       "      <td>April 16, 2014</td>\n",
       "      <td>New_Delhi_National_Capital_Territory_of_Delhi</td>\n",
       "      <td>https://www.tripadvisor.com/Restaurant_Review-...</td>\n",
       "      <td>NaN</td>\n",
       "      <td>New_Delhi</td>\n",
       "    </tr>\n",
       "    <tr>\n",
       "      <th>2088993</th>\n",
       "      <td>Rosa_Mexicano</td>\n",
       "      <td>5</td>\n",
       "      <td>Positive</td>\n",
       "      <td>NaN</td>\n",
       "      <td>New_York</td>\n",
       "    </tr>\n",
       "    <tr>\n",
       "      <th>2088994</th>\n",
       "      <td>February 5, 2017</td>\n",
       "      <td>New_York_City_New_York</td>\n",
       "      <td>https://www.tripadvisor.com/Restaurant_Review-...</td>\n",
       "      <td>NaN</td>\n",
       "      <td>New_York</td>\n",
       "    </tr>\n",
       "    <tr>\n",
       "      <th>2676207</th>\n",
       "      <td>Cafe_George_V</td>\n",
       "      <td>3</td>\n",
       "      <td>Negative</td>\n",
       "      <td>NaN</td>\n",
       "      <td>Paris</td>\n",
       "    </tr>\n",
       "    <tr>\n",
       "      <th>2676208</th>\n",
       "      <td>June 13, 2015</td>\n",
       "      <td>Paris_Ile_de_France</td>\n",
       "      <td>https://www.tripadvisor.com/Restaurant_Review-...</td>\n",
       "      <td>NaN</td>\n",
       "      <td>Paris</td>\n",
       "    </tr>\n",
       "  </tbody>\n",
       "</table>\n",
       "<p>51201 rows × 5 columns</p>\n",
       "</div>"
      ],
      "text/plain": [
       "                     restaurant_name  \\\n",
       "187262   Arrosseria_Xativa_Les_Corts   \n",
       "187263                 June 10, 2014   \n",
       "612489               The_Queens_Head   \n",
       "612490            September 10, 2013   \n",
       "828375       Hawksmoor_Knightsbridge   \n",
       "...                              ...   \n",
       "1782127               April 16, 2014   \n",
       "2088993                Rosa_Mexicano   \n",
       "2088994             February 5, 2017   \n",
       "2676207                Cafe_George_V   \n",
       "2676208                June 13, 2015   \n",
       "\n",
       "                                         rating_review  \\\n",
       "187262                                               4   \n",
       "187263                             Barcelona_Catalonia   \n",
       "612489                                             4.0   \n",
       "612490                                  London_England   \n",
       "828375                                             5.0   \n",
       "...                                                ...   \n",
       "1782127  New_Delhi_National_Capital_Territory_of_Delhi   \n",
       "2088993                                              5   \n",
       "2088994                         New_York_City_New_York   \n",
       "2676207                                              3   \n",
       "2676208                            Paris_Ile_de_France   \n",
       "\n",
       "                                                    sample review_full  \\\n",
       "187262                                            Positive         NaN   \n",
       "187263   https://www.tripadvisor.com/Restaurant_Review-...         NaN   \n",
       "612489                                            Positive         NaN   \n",
       "612490   https://www.tripadvisor.com/Restaurant_Review-...         NaN   \n",
       "828375                                            Positive         NaN   \n",
       "...                                                    ...         ...   \n",
       "1782127  https://www.tripadvisor.com/Restaurant_Review-...         NaN   \n",
       "2088993                                           Positive         NaN   \n",
       "2088994  https://www.tripadvisor.com/Restaurant_Review-...         NaN   \n",
       "2676207                                           Negative         NaN   \n",
       "2676208  https://www.tripadvisor.com/Restaurant_Review-...         NaN   \n",
       "\n",
       "              city  \n",
       "187262   Barcelona  \n",
       "187263   Barcelona  \n",
       "612489      London  \n",
       "612490      London  \n",
       "828375      London  \n",
       "...            ...  \n",
       "1782127  New_Delhi  \n",
       "2088993   New_York  \n",
       "2088994   New_York  \n",
       "2676207      Paris  \n",
       "2676208      Paris  \n",
       "\n",
       "[51201 rows x 5 columns]"
      ]
     },
     "execution_count": 25,
     "metadata": {},
     "output_type": "execute_result"
    }
   ],
   "source": [
    "findnull(df)"
   ]
  },
  {
   "cell_type": "markdown",
   "metadata": {},
   "source": [
    "### 2.5. Delete the NaNs from the Dataframe:"
   ]
  },
  {
   "cell_type": "code",
   "execution_count": 26,
   "metadata": {},
   "outputs": [
    {
     "data": {
      "text/plain": [
       "restaurant_name        9\n",
       "rating_review          9\n",
       "sample                 9\n",
       "review_full        51201\n",
       "city                   0\n",
       "dtype: int64"
      ]
     },
     "execution_count": 26,
     "metadata": {},
     "output_type": "execute_result"
    }
   ],
   "source": [
    "df.isna().sum()"
   ]
  },
  {
   "cell_type": "code",
   "execution_count": 27,
   "metadata": {},
   "outputs": [],
   "source": [
    "df = df.dropna(how='any',axis=0)"
   ]
  },
  {
   "cell_type": "code",
   "execution_count": 28,
   "metadata": {},
   "outputs": [
    {
     "data": {
      "text/plain": [
       "restaurant_name    0\n",
       "rating_review      0\n",
       "sample             0\n",
       "review_full        0\n",
       "city               0\n",
       "dtype: int64"
      ]
     },
     "execution_count": 28,
     "metadata": {},
     "output_type": "execute_result"
    }
   ],
   "source": [
    "df.isna().sum()"
   ]
  },
  {
   "cell_type": "markdown",
   "metadata": {},
   "source": [
    "### 2.6. Define the Column Datatype:"
   ]
  },
  {
   "cell_type": "code",
   "execution_count": 29,
   "metadata": {},
   "outputs": [],
   "source": [
    "df['rating_review'] = df['rating_review'].astype('float')\n",
    "df['rating_review'] = df['rating_review'].astype('int64')"
   ]
  },
  {
   "cell_type": "code",
   "execution_count": 30,
   "metadata": {},
   "outputs": [
    {
     "name": "stdout",
     "output_type": "stream",
     "text": [
      "<class 'pandas.core.frame.DataFrame'>\n",
      "Int64Index: 2756007 entries, 0 to 2807207\n",
      "Data columns (total 5 columns):\n",
      " #   Column           Dtype \n",
      "---  ------           ----- \n",
      " 0   restaurant_name  object\n",
      " 1   rating_review    int64 \n",
      " 2   sample           object\n",
      " 3   review_full      object\n",
      " 4   city             object\n",
      "dtypes: int64(1), object(4)\n",
      "memory usage: 126.2+ MB\n"
     ]
    }
   ],
   "source": [
    "df.info()"
   ]
  },
  {
   "cell_type": "code",
   "execution_count": 31,
   "metadata": {},
   "outputs": [],
   "source": [
    "del [[ barcelona, london, madrid, newdelhi, newyork, paris]]  # these are unnecessary for further analysis"
   ]
  },
  {
   "cell_type": "markdown",
   "metadata": {},
   "source": [
    "# 3. Data Exploration:"
   ]
  },
  {
   "cell_type": "markdown",
   "metadata": {},
   "source": [
    "### 3.1. Exploring the Dataframe:"
   ]
  },
  {
   "cell_type": "code",
   "execution_count": 32,
   "metadata": {},
   "outputs": [
    {
     "data": {
      "text/html": [
       "<div>\n",
       "<style scoped>\n",
       "    .dataframe tbody tr th:only-of-type {\n",
       "        vertical-align: middle;\n",
       "    }\n",
       "\n",
       "    .dataframe tbody tr th {\n",
       "        vertical-align: top;\n",
       "    }\n",
       "\n",
       "    .dataframe thead th {\n",
       "        text-align: right;\n",
       "    }\n",
       "</style>\n",
       "<table border=\"1\" class=\"dataframe\">\n",
       "  <thead>\n",
       "    <tr style=\"text-align: right;\">\n",
       "      <th></th>\n",
       "      <th>restaurant_name</th>\n",
       "      <th>rating_review</th>\n",
       "      <th>sample</th>\n",
       "      <th>review_full</th>\n",
       "    </tr>\n",
       "    <tr>\n",
       "      <th>city</th>\n",
       "      <th></th>\n",
       "      <th></th>\n",
       "      <th></th>\n",
       "      <th></th>\n",
       "    </tr>\n",
       "  </thead>\n",
       "  <tbody>\n",
       "    <tr>\n",
       "      <th>Barcelona</th>\n",
       "      <td>416354</td>\n",
       "      <td>416354</td>\n",
       "      <td>416354</td>\n",
       "      <td>416354</td>\n",
       "    </tr>\n",
       "    <tr>\n",
       "      <th>London</th>\n",
       "      <td>996546</td>\n",
       "      <td>996546</td>\n",
       "      <td>996546</td>\n",
       "      <td>996546</td>\n",
       "    </tr>\n",
       "    <tr>\n",
       "      <th>Madrid</th>\n",
       "      <td>176848</td>\n",
       "      <td>176848</td>\n",
       "      <td>176848</td>\n",
       "      <td>176848</td>\n",
       "    </tr>\n",
       "    <tr>\n",
       "      <th>New_Delhi</th>\n",
       "      <td>147598</td>\n",
       "      <td>147598</td>\n",
       "      <td>147598</td>\n",
       "      <td>147598</td>\n",
       "    </tr>\n",
       "    <tr>\n",
       "      <th>New_York</th>\n",
       "      <td>510461</td>\n",
       "      <td>510461</td>\n",
       "      <td>510461</td>\n",
       "      <td>510461</td>\n",
       "    </tr>\n",
       "    <tr>\n",
       "      <th>Paris</th>\n",
       "      <td>508200</td>\n",
       "      <td>508200</td>\n",
       "      <td>508200</td>\n",
       "      <td>508200</td>\n",
       "    </tr>\n",
       "  </tbody>\n",
       "</table>\n",
       "</div>"
      ],
      "text/plain": [
       "           restaurant_name  rating_review  sample  review_full\n",
       "city                                                          \n",
       "Barcelona           416354         416354  416354       416354\n",
       "London              996546         996546  996546       996546\n",
       "Madrid              176848         176848  176848       176848\n",
       "New_Delhi           147598         147598  147598       147598\n",
       "New_York            510461         510461  510461       510461\n",
       "Paris               508200         508200  508200       508200"
      ]
     },
     "execution_count": 32,
     "metadata": {},
     "output_type": "execute_result"
    }
   ],
   "source": [
    "df.groupby('city').count()"
   ]
  },
  {
   "cell_type": "markdown",
   "metadata": {},
   "source": [
    "The 'London' dataset is the largest dataset, following by New York and Paris. The smallest dataset is from the New Delhi city."
   ]
  },
  {
   "cell_type": "markdown",
   "metadata": {},
   "source": [
    "### 3.2. Exploring the variables:"
   ]
  },
  {
   "cell_type": "markdown",
   "metadata": {},
   "source": [
    "##### \"Sample\" and \"Rating_Reiew\" Column:"
   ]
  },
  {
   "cell_type": "markdown",
   "metadata": {},
   "source": [
    "The 'Sample' and the 'Rating Review' Columns are the response variables considering the reviews given by the diners. We would like to get an overview on these two columns."
   ]
  },
  {
   "cell_type": "code",
   "execution_count": 33,
   "metadata": {},
   "outputs": [
    {
     "data": {
      "text/plain": [
       "Text(0, 0.5, 'Total Count on Reviews')"
      ]
     },
     "execution_count": 33,
     "metadata": {},
     "output_type": "execute_result"
    },
    {
     "data": {
      "image/png": "[encoded data removed]",
      "text/plain": [
       "<Figure size 1000x500 with 2 Axes>"
      ]
     },
     "metadata": {},
     "output_type": "display_data"
    }
   ],
   "source": [
    "fig, (ax1, ax2) = plt.subplots(ncols=2, figsize=(10, 5),layout=\"constrained\")\n",
    "\n",
    "#Create a Barplot:\n",
    "sns.countplot( x= 'sample', data= df, order=df['sample'].value_counts().index, ax=ax1)\n",
    "ax1.set_ylabel(\"Total Count on Positive and Negative reviews\")\n",
    "\n",
    "sns.countplot( x= 'rating_review', data= df, order=df['rating_review'].value_counts().index, ax=ax2)\n",
    "ax2.set_ylabel(\"Total Count on Reviews\")\n"
   ]
  },
  {
   "cell_type": "markdown",
   "metadata": {},
   "source": [
    "From the graphical illustration, we see that in general positive and 5 star reviews are mostly given in these 5 datasets by the reviewers."
   ]
  },
  {
   "cell_type": "markdown",
   "metadata": {},
   "source": [
    "Now, let's observe the response of the reviews by different cities:"
   ]
  },
  {
   "cell_type": "code",
   "execution_count": 34,
   "metadata": {},
   "outputs": [
    {
     "data": {
      "text/plain": [
       "<AxesSubplot:xlabel='rating_review', ylabel='count'>"
      ]
     },
     "execution_count": 34,
     "metadata": {},
     "output_type": "execute_result"
    },
    {
     "data": {
      "image/png": "[encoded data removed]",
      "text/plain": [
       "<Figure size 640x480 with 1 Axes>"
      ]
     },
     "metadata": {},
     "output_type": "display_data"
    }
   ],
   "source": [
    "sns.countplot(data=df, hue= 'city', x='rating_review', order=df['rating_review'].value_counts().index,)"
   ]
  },
  {
   "cell_type": "code",
   "execution_count": 35,
   "metadata": {},
   "outputs": [
    {
     "data": {
      "text/plain": [
       "<AxesSubplot:xlabel='sample', ylabel='count'>"
      ]
     },
     "execution_count": 35,
     "metadata": {},
     "output_type": "execute_result"
    },
    {
     "data": {
      "image/png": "[encoded data removed]",
      "text/plain": [
       "<Figure size 640x480 with 1 Axes>"
      ]
     },
     "metadata": {},
     "output_type": "display_data"
    }
   ],
   "source": [
    "sns.countplot(data=df, hue= 'city', x='sample', order=df['sample'].value_counts().index,)"
   ]
  },
  {
   "cell_type": "markdown",
   "metadata": {},
   "source": [
    "From the graphical illustration above, we can interprete that majority the responses are positive or 5star rated, so balancing out the response for this multi-class classification problem should be considered with importance."
   ]
  },
  {
   "cell_type": "markdown",
   "metadata": {},
   "source": [
    "##### \"Restaurant_Name\" Column:"
   ]
  },
  {
   "cell_type": "code",
   "execution_count": 36,
   "metadata": {},
   "outputs": [
    {
     "data": {
      "text/plain": [
       "city\n",
       "Barcelona     6621\n",
       "London        1827\n",
       "Madrid        5855\n",
       "New_Delhi     5530\n",
       "New_York      1805\n",
       "Paris        11471\n",
       "Name: restaurant_name, dtype: int64"
      ]
     },
     "execution_count": 36,
     "metadata": {},
     "output_type": "execute_result"
    }
   ],
   "source": [
    "df.groupby('city')['restaurant_name'].nunique()"
   ]
  },
  {
   "cell_type": "code",
   "execution_count": 37,
   "metadata": {},
   "outputs": [
    {
     "data": {
      "text/plain": [
       "0    Ok, this place is terrible! Came here bc we’ve...\n",
       "1    This place was a great surprise. The food is d...\n",
       "2    The food is excellent.....the ambiance is very...\n",
       "3    The food is execellent ,affortable price for p...\n",
       "4    Mr Suarez,The food at your restaurant was abso...\n",
       "Name: review_full, dtype: object"
      ]
     },
     "execution_count": 37,
     "metadata": {},
     "output_type": "execute_result"
    }
   ],
   "source": [
    "barcelona= df.loc[df[\"city\"] == 'Barcelona', \"review_full\"]\n",
    "barcelona.head()"
   ]
  },
  {
   "cell_type": "code",
   "execution_count": 38,
   "metadata": {},
   "outputs": [
    {
     "name": "stdout",
     "output_type": "stream",
     "text": [
      "<class 'pandas.core.series.Series'>\n",
      "Int64Index: 416354 entries, 0 to 416355\n",
      "Series name: review_full\n",
      "Non-Null Count   Dtype \n",
      "--------------   ----- \n",
      "416354 non-null  object\n",
      "dtypes: object(1)\n",
      "memory usage: 6.4+ MB\n"
     ]
    }
   ],
   "source": [
    "barcelona.info()"
   ]
  },
  {
   "cell_type": "code",
   "execution_count": 39,
   "metadata": {},
   "outputs": [
    {
     "data": {
      "text/plain": [
       "416356    I was away for couple of months and I am so ha...\n",
       "416357    I recently ordered over the phone from Cocotte...\n",
       "416358    Came here because we missed our table at Farma...\n",
       "416359    My first time in cocotte and was amazed by how...\n",
       "416360    A healthy-homemade dishes using farm-grown ing...\n",
       "Name: review_full, dtype: object"
      ]
     },
     "execution_count": 39,
     "metadata": {},
     "output_type": "execute_result"
    }
   ],
   "source": [
    "london= df.loc[df[\"city\"] == 'London', \"review_full\"]\n",
    "london.head()"
   ]
  },
  {
   "cell_type": "code",
   "execution_count": 40,
   "metadata": {},
   "outputs": [
    {
     "name": "stdout",
     "output_type": "stream",
     "text": [
      "<class 'pandas.core.series.Series'>\n",
      "Int64Index: 996546 entries, 416356 to 1412922\n",
      "Series name: review_full\n",
      "Non-Null Count   Dtype \n",
      "--------------   ----- \n",
      "996546 non-null  object\n",
      "dtypes: object(1)\n",
      "memory usage: 15.2+ MB\n"
     ]
    }
   ],
   "source": [
    "london.info()"
   ]
  },
  {
   "cell_type": "code",
   "execution_count": 41,
   "metadata": {},
   "outputs": [
    {
     "data": {
      "text/plain": [
       "1412923    The menu of Yakuza is a bit of a lottery, some...\n",
       "1412924    Check your bill when you cancel just in case y...\n",
       "1412925    I had the yuca profiteroles and the veggie bur...\n",
       "1412926    A friend recommended this place as one of the ...\n",
       "1412927    Amazing terrace in madrid - great atmosphere a...\n",
       "Name: review_full, dtype: object"
      ]
     },
     "execution_count": 41,
     "metadata": {},
     "output_type": "execute_result"
    }
   ],
   "source": [
    "madrid= df.loc[df[\"city\"] == 'Madrid', \"review_full\"]\n",
    "madrid.head()"
   ]
  },
  {
   "cell_type": "code",
   "execution_count": 42,
   "metadata": {},
   "outputs": [
    {
     "name": "stdout",
     "output_type": "stream",
     "text": [
      "<class 'pandas.core.series.Series'>\n",
      "Int64Index: 176848 entries, 1412923 to 1589770\n",
      "Series name: review_full\n",
      "Non-Null Count   Dtype \n",
      "--------------   ----- \n",
      "176848 non-null  object\n",
      "dtypes: object(1)\n",
      "memory usage: 2.7+ MB\n"
     ]
    }
   ],
   "source": [
    "madrid.info()"
   ]
  },
  {
   "cell_type": "code",
   "execution_count": 43,
   "metadata": {},
   "outputs": [
    {
     "data": {
      "text/plain": [
       "1589771    Visited Tres last week with my dad for lunch. ...\n",
       "1589772    The restaurant design is classy, the service i...\n",
       "1589773    I went to Tres while visiting my family in Del...\n",
       "1589774    We went for lunch, for a Friday afternoon, it ...\n",
       "1589775    Tres is my most often visited and favourite st...\n",
       "Name: review_full, dtype: object"
      ]
     },
     "execution_count": 43,
     "metadata": {},
     "output_type": "execute_result"
    }
   ],
   "source": [
    "newdelhi= df.loc[df[\"city\"] == 'New_Delhi', \"review_full\"]\n",
    "newdelhi.head()"
   ]
  },
  {
   "cell_type": "code",
   "execution_count": 44,
   "metadata": {},
   "outputs": [
    {
     "name": "stdout",
     "output_type": "stream",
     "text": [
      "<class 'pandas.core.series.Series'>\n",
      "Int64Index: 147598 entries, 1589771 to 1788542\n",
      "Series name: review_full\n",
      "Non-Null Count   Dtype \n",
      "--------------   ----- \n",
      "147598 non-null  object\n",
      "dtypes: object(1)\n",
      "memory usage: 2.3+ MB\n"
     ]
    }
   ],
   "source": [
    "newdelhi.info()"
   ]
  },
  {
   "cell_type": "code",
   "execution_count": 45,
   "metadata": {},
   "outputs": [
    {
     "data": {
      "text/plain": [
       "1788543    My wife and I have been eating dinner frequent...\n",
       "1788544    Came with family for Labor Day weekend brunch ...\n",
       "1788545    Food was mediocre at best. The lamb chops are ...\n",
       "1788546    My co-workers were volunteering at a foodbank ...\n",
       "1788547    Lido is an intimate boutique style restaurant....\n",
       "Name: review_full, dtype: object"
      ]
     },
     "execution_count": 45,
     "metadata": {},
     "output_type": "execute_result"
    }
   ],
   "source": [
    "newyork= df.loc[df[\"city\"] == 'New_York', \"review_full\"]\n",
    "newyork.head()"
   ]
  },
  {
   "cell_type": "code",
   "execution_count": 46,
   "metadata": {},
   "outputs": [
    {
     "name": "stdout",
     "output_type": "stream",
     "text": [
      "<class 'pandas.core.series.Series'>\n",
      "Int64Index: 510461 entries, 1788543 to 2299005\n",
      "Series name: review_full\n",
      "Non-Null Count   Dtype \n",
      "--------------   ----- \n",
      "510461 non-null  object\n",
      "dtypes: object(1)\n",
      "memory usage: 7.8+ MB\n"
     ]
    }
   ],
   "source": [
    "newyork.info()"
   ]
  },
  {
   "cell_type": "code",
   "execution_count": 47,
   "metadata": {},
   "outputs": [
    {
     "data": {
      "text/plain": [
       "2299006    The waiter was very enthusiastic and caring.Th...\n",
       "2299007    Lovely friendly bistro, great food. Menu not e...\n",
       "2299008    Great dishes based on meat, fine drinks. Reall...\n",
       "2299009    The food is delicious, the decoration is amazi...\n",
       "2299010    This is a great place to hangout with friends ...\n",
       "Name: review_full, dtype: object"
      ]
     },
     "execution_count": 47,
     "metadata": {},
     "output_type": "execute_result"
    }
   ],
   "source": [
    "paris= df.loc[df[\"city\"] == 'Paris', \"review_full\"]\n",
    "paris.head()"
   ]
  },
  {
   "cell_type": "code",
   "execution_count": 48,
   "metadata": {},
   "outputs": [
    {
     "name": "stdout",
     "output_type": "stream",
     "text": [
      "<class 'pandas.core.series.Series'>\n",
      "Int64Index: 508200 entries, 2299006 to 2807207\n",
      "Series name: review_full\n",
      "Non-Null Count   Dtype \n",
      "--------------   ----- \n",
      "508200 non-null  object\n",
      "dtypes: object(1)\n",
      "memory usage: 7.8+ MB\n"
     ]
    }
   ],
   "source": [
    "paris.info()"
   ]
  },
  {
   "cell_type": "markdown",
   "metadata": {},
   "source": [
    "##### \"review_full\" Column:"
   ]
  },
  {
   "cell_type": "markdown",
   "metadata": {},
   "source": [
    "The 'review_full' column is the column that contains the column texts with the reviews from diners. This column is the focus of our interest in this Analysis. We would continue to our Sentiment Analysis on these reviews"
   ]
  },
  {
   "cell_type": "code",
   "execution_count": 49,
   "metadata": {},
   "outputs": [],
   "source": [
    "df['Word_count']= df['review_full'].map(lambda x: len(x.split()))"
   ]
  },
  {
   "cell_type": "code",
   "execution_count": 50,
   "metadata": {},
   "outputs": [
    {
     "data": {
      "text/plain": [
       "<AxesSubplot:xlabel='rating_review', ylabel='Word_count'>"
      ]
     },
     "execution_count": 50,
     "metadata": {},
     "output_type": "execute_result"
    },
    {
     "data": {
      "image/png": "[encoded data removed]",
      "text/plain": [
       "<Figure size 640x480 with 1 Axes>"
      ]
     },
     "metadata": {},
     "output_type": "display_data"
    }
   ],
   "source": [
    "sns.lineplot(x='rating_review', data=df, y='Word_count')"
   ]
  },
  {
   "cell_type": "code",
   "execution_count": 51,
   "metadata": {},
   "outputs": [
    {
     "name": "stderr",
     "output_type": "stream",
     "text": [
      "[nltk_data] Downloading package stopwords to\n",
      "[nltk_data]     C:\\Users\\mahmu\\AppData\\Roaming\\nltk_data...\n",
      "[nltk_data]   Package stopwords is already up-to-date!\n"
     ]
    }
   ],
   "source": [
    "#reference: https://www.geeksforgeeks.org/python-nlp-analysis-of-restaurant-reviews/\n",
    "\n",
    "#### Import the libraries:\n",
    "\n",
    "# library to clean data\n",
    "import re \n",
    "# Natural Language Tool Kit\n",
    "import nltk \n",
    "nltk.download('stopwords')\n",
    "# to remove stopword\n",
    "from nltk.corpus import stopwords, wordnet\n",
    "# for Stemming propose \n",
    "from nltk.stem.porter import PorterStemmer"
   ]
  },
  {
   "cell_type": "code",
   "execution_count": 52,
   "metadata": {},
   "outputs": [],
   "source": [
    "sw = stopwords.words('english')"
   ]
  },
  {
   "cell_type": "code",
   "execution_count": 53,
   "metadata": {},
   "outputs": [],
   "source": [
    "# Reference: https://github.com/rylewww/Tripadvisor-NLP/blob/master/Final_Notebook.ipynb\n",
    "\n",
    "def getwordnetwithpos(x):\n",
    "    '''\n",
    "    Translate nltk POS to wordnet tags\n",
    "    '''\n",
    "    if x.startswith('J'):\n",
    "        return wordnet.ADJ\n",
    "    elif x.startswith('V'):\n",
    "        return wordnet.VERB\n",
    "    elif x.startswith('N'):\n",
    "        return wordnet.NOUN\n",
    "    elif x.startswith('R'):\n",
    "        return wordnet.ADV\n",
    "    else:\n",
    "        return wordnet.NOUN"
   ]
  },
  {
   "cell_type": "code",
   "execution_count": 54,
   "metadata": {},
   "outputs": [],
   "source": [
    "from nltk.tokenize import regexp_tokenize, word_tokenize, RegexpTokenizer\n",
    "from nltk import pos_tag\n",
    "from nltk.stem import WordNetLemmatizer\n",
    "\n",
    "def docprep(doc, stop_words=sw):\n",
    "    regex_token = RegexpTokenizer(r\"([a-zA-Z]+(?:’[a-z]+)?)\")\n",
    "    doc = regex_token.tokenize(doc)\n",
    "    doc = [word.lower() for word in doc]\n",
    "    doc = [word for word in doc if word not in sw]\n",
    "    doc = pos_tag(doc)\n",
    "    doc = [(word[0], getwordnetwithpos(word[1])) for word in doc]\n",
    "    lemmatizer = WordNetLemmatizer() \n",
    "    doc = [lemmatizer.lemmatize(word[0], word[1]) for word in doc]\n",
    "    return ' '.join(doc)"
   ]
  },
  {
   "cell_type": "code",
   "execution_count": 55,
   "metadata": {},
   "outputs": [
    {
     "ename": "TypeError",
     "evalue": "expected string or bytes-like object",
     "output_type": "error",
     "traceback": [
      "\u001b[1;31m---------------------------------------------------------------------------\u001b[0m",
      "\u001b[1;31mTypeError\u001b[0m                                 Traceback (most recent call last)",
      "\u001b[1;32md:\\Projects\\Git\\Capstone_3_Project\\Capstone 3- TripAdvisor Review Analysis\\Data Preprocessing.ipynb Cell 78\u001b[0m line \u001b[0;36m<cell line: 1>\u001b[1;34m()\u001b[0m\n\u001b[1;32m----> <a href='vscode-notebook-cell:/d%3A/Projects/Git/Capstone_3_Project/Capstone%203-%20TripAdvisor%20Review%20Analysis/Data%20Preprocessing.ipynb#Y130sZmlsZQ%3D%3D?line=0'>1</a>\u001b[0m tokenbarcelona \u001b[39m=\u001b[39m docprep(barcelona)\n",
      "\u001b[1;32md:\\Projects\\Git\\Capstone_3_Project\\Capstone 3- TripAdvisor Review Analysis\\Data Preprocessing.ipynb Cell 78\u001b[0m line \u001b[0;36mdocprep\u001b[1;34m(doc, stop_words)\u001b[0m\n\u001b[0;32m      <a href='vscode-notebook-cell:/d%3A/Projects/Git/Capstone_3_Project/Capstone%203-%20TripAdvisor%20Review%20Analysis/Data%20Preprocessing.ipynb#Y130sZmlsZQ%3D%3D?line=4'>5</a>\u001b[0m \u001b[39mdef\u001b[39;00m \u001b[39mdocprep\u001b[39m(doc, stop_words\u001b[39m=\u001b[39msw):\n\u001b[0;32m      <a href='vscode-notebook-cell:/d%3A/Projects/Git/Capstone_3_Project/Capstone%203-%20TripAdvisor%20Review%20Analysis/Data%20Preprocessing.ipynb#Y130sZmlsZQ%3D%3D?line=5'>6</a>\u001b[0m     regex_token \u001b[39m=\u001b[39m RegexpTokenizer(\u001b[39mr\u001b[39m\u001b[39m\"\u001b[39m\u001b[39m([a-zA-Z]+(?:’[a-z]+)?)\u001b[39m\u001b[39m\"\u001b[39m)\n\u001b[1;32m----> <a href='vscode-notebook-cell:/d%3A/Projects/Git/Capstone_3_Project/Capstone%203-%20TripAdvisor%20Review%20Analysis/Data%20Preprocessing.ipynb#Y130sZmlsZQ%3D%3D?line=6'>7</a>\u001b[0m     doc \u001b[39m=\u001b[39m regex_token\u001b[39m.\u001b[39;49mtokenize(doc)\n\u001b[0;32m      <a href='vscode-notebook-cell:/d%3A/Projects/Git/Capstone_3_Project/Capstone%203-%20TripAdvisor%20Review%20Analysis/Data%20Preprocessing.ipynb#Y130sZmlsZQ%3D%3D?line=7'>8</a>\u001b[0m     doc \u001b[39m=\u001b[39m [word\u001b[39m.\u001b[39mlower() \u001b[39mfor\u001b[39;00m word \u001b[39min\u001b[39;00m doc]\n\u001b[0;32m      <a href='vscode-notebook-cell:/d%3A/Projects/Git/Capstone_3_Project/Capstone%203-%20TripAdvisor%20Review%20Analysis/Data%20Preprocessing.ipynb#Y130sZmlsZQ%3D%3D?line=8'>9</a>\u001b[0m     doc \u001b[39m=\u001b[39m [word \u001b[39mfor\u001b[39;00m word \u001b[39min\u001b[39;00m doc \u001b[39mif\u001b[39;00m word \u001b[39mnot\u001b[39;00m \u001b[39min\u001b[39;00m sw]\n",
      "File \u001b[1;32md:\\Users\\mahmu\\anaconda3\\lib\\site-packages\\nltk\\tokenize\\regexp.py:133\u001b[0m, in \u001b[0;36mRegexpTokenizer.tokenize\u001b[1;34m(self, text)\u001b[0m\n\u001b[0;32m    129\u001b[0m         \u001b[39mreturn\u001b[39;00m \u001b[39mself\u001b[39m\u001b[39m.\u001b[39m_regexp\u001b[39m.\u001b[39msplit(text)\n\u001b[0;32m    131\u001b[0m \u001b[39m# If our regexp matches tokens, use re.findall:\u001b[39;00m\n\u001b[0;32m    132\u001b[0m \u001b[39melse\u001b[39;00m:\n\u001b[1;32m--> 133\u001b[0m     \u001b[39mreturn\u001b[39;00m \u001b[39mself\u001b[39;49m\u001b[39m.\u001b[39;49m_regexp\u001b[39m.\u001b[39;49mfindall(text)\n",
      "\u001b[1;31mTypeError\u001b[0m: expected string or bytes-like object"
     ]
    }
   ],
   "source": [
    "tokenbarcelona = docprep(barcelona)"
   ]
  },
  {
   "cell_type": "code",
   "execution_count": null,
   "metadata": {},
   "outputs": [],
   "source": [
    "#df['tokenized'] = df['review_full'].apply(docprep)"
   ]
  },
  {
   "cell_type": "markdown",
   "metadata": {},
   "source": [
    "Try with spaCy:"
   ]
  },
  {
   "cell_type": "code",
   "execution_count": 56,
   "metadata": {},
   "outputs": [
    {
     "data": {
      "text/plain": [
       "<spacy.lang.en.English at 0x23c0c34b970>"
      ]
     },
     "execution_count": 56,
     "metadata": {},
     "output_type": "execute_result"
    }
   ],
   "source": [
    "# Import the spaCy library for lemmatization:\n",
    "\n",
    "import spacy\n",
    "nlp = spacy.load('en_core_web_sm')\n",
    "nlp\n"
   ]
  },
  {
   "cell_type": "code",
   "execution_count": 57,
   "metadata": {},
   "outputs": [],
   "source": [
    "def preprocess(text):\n",
    "    lower= text.lower()\n",
    "    doc= nlp(lower)\n",
    "    tokens= [token.lemma_ for token in doc ]\n",
    "    a_lemma= [lemma for lemma in tokens if lemma not in spacy.lang.en.stop_words.STOP_WORDS and lemma.isalpha()]\n",
    "    return \" \".join(a_lemma)"
   ]
  },
  {
   "cell_type": "code",
   "execution_count": 58,
   "metadata": {},
   "outputs": [
    {
     "ename": "",
     "evalue": "",
     "output_type": "error",
     "traceback": [
      "\u001b[1;31mThe Kernel crashed while executing code in the the current cell or a previous cell. Please review the code in the cell(s) to identify a possible cause of the failure. Click <a href='https://aka.ms/vscodeJupyterKernelCrash'>here</a> for more info. View Jupyter <a href='command:jupyter.viewOutput'>log</a> for further details."
     ]
    }
   ],
   "source": [
    "textdocbarcelona = barcelona.apply(lambda x: preprocess(x))"
   ]
  },
  {
   "cell_type": "code",
   "execution_count": null,
   "metadata": {},
   "outputs": [],
   "source": [
    "#df['p_review'] = df['review_full'].apply(preprocess)"
   ]
  },
  {
   "cell_type": "code",
   "execution_count": null,
   "metadata": {},
   "outputs": [],
   "source": [
    "barcelona_doc = nlp(barcelona)"
   ]
  },
  {
   "cell_type": "code",
   "execution_count": null,
   "metadata": {},
   "outputs": [],
   "source": [
    "textdocbarcelona = barcelona.apply(lambda x: nlp.tokenizer(x))"
   ]
  },
  {
   "cell_type": "code",
   "execution_count": null,
   "metadata": {},
   "outputs": [],
   "source": [
    "textdocbarcelona.head()"
   ]
  },
  {
   "cell_type": "code",
   "execution_count": null,
   "metadata": {},
   "outputs": [],
   "source": []
  },
  {
   "cell_type": "code",
   "execution_count": null,
   "metadata": {},
   "outputs": [],
   "source": [
    "import spacy\n",
    "nlp = spacy.load('en_core_web_sm')\n",
    "\n",
    "# Create a Doc object\n",
    "doc = nlp(u'the bats saw the cats with best stripes hanging upside down by their feet')\n",
    "\n",
    "# Create list of tokens from given string\n",
    "tokens = []\n",
    "for token in doc:\n",
    "\ttokens.append(token)\n",
    "\n",
    "print(tokens)\n",
    "#> [the, bats, saw, the, cats, with, best, stripes, hanging, upside, down, by, their, feet]\n",
    "\n",
    "lemmatized_sentence = \" \".join([token.lemma_ for token in doc])\n",
    "\n",
    "print(lemmatized_sentence)\n",
    "#> the bat see the cat with good stripe hang upside down by -PRON- foot\n"
   ]
  },
  {
   "cell_type": "code",
   "execution_count": null,
   "metadata": {},
   "outputs": [],
   "source": [
    "# Find the Stopwords in the reviews:\n",
    "from nltk.corpus import stopwords, wordnet\n",
    "sw = stopwords.words('english')\n",
    "\n"
   ]
  },
  {
   "cell_type": "code",
   "execution_count": null,
   "metadata": {},
   "outputs": [],
   "source": [
    "# Write a function to form the corpus for corresponding dataframe:\n",
    "\n",
    "def findcorpusforcity(x):\n",
    "\t# Initialize empty array to append clean text \n",
    "\tcorpus = [] \n",
    "\t# All (reviews) rows to clean\n",
    "\tfor i in range(0,len(df.loc[df[\"city\"] == x, \"review_full\"])):\n",
    "\t\treview = re.sub('[^a-zA-Z]', ' ', df['review_full'][i]) \n",
    "\n",
    "\t\t# convert all cases to lower cases\n",
    "\t\treview = review.lower() \n",
    "\t\n",
    "\t\t# split to array(default delimiter is \" \")\n",
    "\t\treview = review.split() \n",
    "\t\n",
    "\t\t# creating PorterStemmer object to take main stem of each word\n",
    "\t\tps = PorterStemmer() \n",
    "\t\n",
    "\t\t# loop for stemming each word in string array at ith row \n",
    "\t\treview = [ps.stem(word) for word in review\n",
    "\t\t\t\tif not word in set(stopwords.words('english'))] \n",
    "\t\t\t\t\n",
    "\t\t# rejoin all string array elements to create back into a string\n",
    "\t\treview = ' '.join(review) \n",
    "\t\n",
    "\t\t# append each string to create array of clean text \n",
    "\t\tcorpus.append(review) \n"
   ]
  },
  {
   "cell_type": "code",
   "execution_count": null,
   "metadata": {},
   "outputs": [],
   "source": [
    "#review = re.sub('[^a-zA-Z]', ' ', df['review_full'][i]) "
   ]
  },
  {
   "cell_type": "code",
   "execution_count": null,
   "metadata": {},
   "outputs": [],
   "source": [
    "barcelona= df.loc[df[\"city\"] == 'Barcelona', \"review_full\"]\n",
    "barcelona.head()"
   ]
  },
  {
   "cell_type": "code",
   "execution_count": null,
   "metadata": {},
   "outputs": [],
   "source": [
    "len(df.loc[df[\"city\"] == 'Barcelona', \"review_full\"])"
   ]
  },
  {
   "cell_type": "code",
   "execution_count": null,
   "metadata": {},
   "outputs": [],
   "source": [
    "print(review)"
   ]
  },
  {
   "cell_type": "code",
   "execution_count": null,
   "metadata": {},
   "outputs": [],
   "source": [
    "print(corpus)"
   ]
  },
  {
   "cell_type": "code",
   "execution_count": null,
   "metadata": {},
   "outputs": [],
   "source": [
    "len(df['review_full'])"
   ]
  },
  {
   "cell_type": "markdown",
   "metadata": {},
   "source": [
    "# 3.  Data Training:"
   ]
  },
  {
   "cell_type": "code",
   "execution_count": null,
   "metadata": {},
   "outputs": [],
   "source": [
    "import spacy"
   ]
  }
 ],
 "metadata": {
  "kernelspec": {
   "display_name": "base",
   "language": "python",
   "name": "python3"
  },
  "language_info": {
   "codemirror_mode": {
    "name": "ipython",
    "version": 3
   },
   "file_extension": ".py",
   "mimetype": "text/x-python",
   "name": "python",
   "nbconvert_exporter": "python",
   "pygments_lexer": "ipython3",
   "version": "3.9.13"
  },
  "orig_nbformat": 4
 },
 "nbformat": 4,
 "nbformat_minor": 2
}
